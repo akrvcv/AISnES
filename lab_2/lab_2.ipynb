{
 "cells": [
  {
   "cell_type": "markdown",
   "id": "da1911c4",
   "metadata": {
    "pycharm": {
     "name": "#%%\n"
    }
   },
   "source": [
    "# Лабораторная работа №2\n",
    "### Задание\n",
    "### Вариант №7\n",
    "### Классы 3, 7, 13 ('comp.os.ms-windows.misc', 'misc.forsale', 'sci.electronics')"
   ]
  },
  {
   "cell_type": "code",
   "execution_count": 1,
   "id": "2dae64bb",
   "metadata": {
    "pycharm": {
     "name": "#%%\n"
    }
   },
   "outputs": [],
   "source": [
    "import warnings\n",
    "import nltk\n",
    "from sklearn.datasets import fetch_20newsgroups\n",
    "warnings.simplefilter(action='ignore', category=FutureWarning)"
   ]
  },
  {
   "cell_type": "code",
   "execution_count": 2,
   "id": "ad721965",
   "metadata": {
    "pycharm": {
     "name": "#%%\n"
    }
   },
   "outputs": [],
   "source": [
    "categories = ['comp.os.ms-windows.misc', 'misc.forsale', 'sci.electronics']\n",
    "remove = ('headers', 'footers', 'quotes')\n",
    "\n",
    "twenty_train_full = fetch_20newsgroups(subset='train', categories=categories, shuffle=True, random_state=42, remove=remove)\n",
    "twenty_test_full = fetch_20newsgroups(subset='test', categories=categories, shuffle=True, random_state=42, remove=remove)"
   ]
  },
  {
   "cell_type": "code",
   "execution_count": 3,
   "id": "3a5e8422",
   "metadata": {
    "pycharm": {
     "name": "#%%\n"
    }
   },
   "outputs": [
    {
     "data": {
      "text/plain": [
       "'\\nThere\\'s a program called \"Icon Frightener\" included with the book Stupid\\nWindows Tricks by Bob LeVitus and Ed Tittel (Addison-Wesley, 1992).  It\\'s\\nfreeware.  If it\\'s not on the net anywhere, I\\'ll happily email a copy to\\nsomeone who\\'s willing to upload it (I can\\'t upload through our Internet\\nfirewall).\\n'"
      ]
     },
     "execution_count": 3,
     "metadata": {},
     "output_type": "execute_result"
    }
   ],
   "source": [
    "twenty_train_full.data[0]"
   ]
  },
  {
   "cell_type": "code",
   "execution_count": 4,
   "id": "919a3dfb",
   "metadata": {
    "pycharm": {
     "name": "#%%\n"
    }
   },
   "outputs": [
    {
     "data": {
      "text/plain": [
       "'After hearing endless debate (READ: name-calling) over which os is better, dos\\nand windows or OS/2 and finally having enought resourses to play with a couple\\nof different operating systems, I have decided to put the two products to a\\nhead to head test, as so many fellow newsposters have suggested.  I have, \\nhowever, no desire whatsoever to use a version of os/2 which wont REALLY\\ndo what it says (i.e. run windows apps)  OS/2 2.0-2.1 will not run windows\\napps in 386 enhansed mode, something that most larger windows apps require, but\\nOS/2 2.2, which is supposed to be in beta test, is supposed to.  I have heard\\nthat os/2 2.2 beta is available via ftp, and I was wondering if anyone knew\\nwhere to obtain a copy.  I would appreciate any information, as I would like, \\nonce and for all, to establish for myself which is the best os for my needs.'"
      ]
     },
     "execution_count": 4,
     "metadata": {},
     "output_type": "execute_result"
    }
   ],
   "source": [
    "twenty_test_full.data[0]"
   ]
  },
  {
   "cell_type": "markdown",
   "id": "cf13565f",
   "metadata": {
    "pycharm": {
     "name": "#%% md\n"
    }
   },
   "source": [
    "### Применение стемминга"
   ]
  },
  {
   "cell_type": "code",
   "execution_count": 5,
   "id": "94c050af",
   "metadata": {
    "pycharm": {
     "name": "#%%\n"
    }
   },
   "outputs": [
    {
     "name": "stderr",
     "output_type": "stream",
     "text": [
      "[nltk_data] Downloading package punkt to\n",
      "[nltk_data]     C:\\Users\\user\\AppData\\Roaming\\nltk_data...\n",
      "[nltk_data]   Package punkt is already up-to-date!\n"
     ]
    },
    {
     "data": {
      "text/plain": [
       "True"
      ]
     },
     "execution_count": 5,
     "metadata": {},
     "output_type": "execute_result"
    }
   ],
   "source": [
    "import nltk\n",
    "from nltk import word_tokenize\n",
    "from nltk.stem import *\n",
    "\n",
    "nltk.download('punkt')"
   ]
  },
  {
   "cell_type": "code",
   "execution_count": 6,
   "id": "4a06e896",
   "metadata": {
    "pycharm": {
     "name": "#%%\n"
    }
   },
   "outputs": [],
   "source": [
    "def stemming(data):\n",
    "    porter_stemmer = PorterStemmer()\n",
    "    stem = []\n",
    "    for text in data:\n",
    "        nltk_tokens = word_tokenize(text)\n",
    "        line = ''.join([' ' + porter_stemmer.stem(word) for word in nltk_tokens])\n",
    "        stem.append(line)\n",
    "    return stem"
   ]
  },
  {
   "cell_type": "code",
   "execution_count": 7,
   "id": "556503b3",
   "metadata": {
    "pycharm": {
     "name": "#%%\n"
    }
   },
   "outputs": [],
   "source": [
    "stem_train = stemming(twenty_train_full.data)\n",
    "stem_test = stemming(twenty_test_full.data)"
   ]
  },
  {
   "cell_type": "code",
   "execution_count": 8,
   "id": "4abda5e0",
   "metadata": {
    "pycharm": {
     "name": "#%%\n"
    }
   },
   "outputs": [
    {
     "data": {
      "text/plain": [
       "\" there 's a program call `` icon frighten '' includ with the book stupid window trick by bob levitu and ed tittel ( addison-wesley , 1992 ) . it' freewar . if it 's not on the net anywher , i 'll happili email a copi to someon who 's will to upload it ( i ca n't upload through our internet firewal ) .\""
      ]
     },
     "execution_count": 8,
     "metadata": {},
     "output_type": "execute_result"
    }
   ],
   "source": [
    "stem_train[0]"
   ]
  },
  {
   "cell_type": "code",
   "execution_count": 9,
   "id": "bb2da467",
   "metadata": {
    "pycharm": {
     "name": "#%%\n"
    }
   },
   "outputs": [
    {
     "data": {
      "text/plain": [
       "' after hear endless debat ( read : name-cal ) over which os is better , do and window or os/2 and final have enought resours to play with a coupl of differ oper system , i have decid to put the two product to a head to head test , as so mani fellow newspost have suggest . i have , howev , no desir whatsoev to use a version of os/2 which wont realli do what it say ( i.e . run window app ) os/2 2.0-2.1 will not run window app in 386 enhans mode , someth that most larger window app requir , but os/2 2.2 , which is suppos to be in beta test , is suppos to . i have heard that os/2 2.2 beta is avail via ftp , and i wa wonder if anyon knew where to obtain a copi . i would appreci ani inform , as i would like , onc and for all , to establish for myself which is the best os for my need .'"
      ]
     },
     "execution_count": 9,
     "metadata": {},
     "output_type": "execute_result"
    }
   ],
   "source": [
    "stem_test[0]"
   ]
  },
  {
   "cell_type": "markdown",
   "id": "8fb1780f",
   "metadata": {
    "pycharm": {
     "name": "#%% md\n"
    }
   },
   "source": [
    "### Векторизация выборки"
   ]
  },
  {
   "cell_type": "markdown",
   "id": "1dfe1a2a",
   "metadata": {
    "pycharm": {
     "name": "#%% md\n"
    }
   },
   "source": [
    "#### Векторизация обучающей и тестовой выборки простым подсчетом слов (CountVectorizer) и значением max_features = 10.000"
   ]
  },
  {
   "cell_type": "code",
   "execution_count": 10,
   "id": "38f4dda6",
   "metadata": {
    "pycharm": {
     "name": "#%%\n"
    }
   },
   "outputs": [],
   "source": [
    "import numpy as np\n",
    "from sklearn.feature_extraction.text import CountVectorizer"
   ]
  },
  {
   "cell_type": "code",
   "execution_count": 11,
   "id": "15834539",
   "metadata": {
    "pycharm": {
     "name": "#%%\n"
    }
   },
   "outputs": [],
   "source": [
    "vect_without_stop = CountVectorizer(max_features=10000)"
   ]
  },
  {
   "cell_type": "code",
   "execution_count": 12,
   "id": "12a749fa",
   "metadata": {
    "pycharm": {
     "name": "#%%\n"
    }
   },
   "outputs": [],
   "source": [
    "train_data = vect_without_stop.fit_transform(twenty_train_full.data)\n",
    "test_data = vect_without_stop.transform(twenty_test_full.data)"
   ]
  },
  {
   "cell_type": "code",
   "execution_count": 13,
   "id": "80092e0a",
   "metadata": {
    "pycharm": {
     "name": "#%%\n"
    }
   },
   "outputs": [],
   "source": [
    "def sort_by_tf(input_str):\n",
    "    return input_str[1]\n",
    "\n",
    "def top_terms(vector, data, count):\n",
    "    x = list(zip(vector.get_feature_names_out(), np.ravel(data.sum(axis=0))))\n",
    "    x.sort(key=sort_by_tf, reverse=True)\n",
    "    return x[:count]"
   ]
  },
  {
   "cell_type": "code",
   "execution_count": 14,
   "id": "4e29f2e0",
   "metadata": {
    "pycharm": {
     "name": "#%%\n"
    }
   },
   "outputs": [
    {
     "data": {
      "text/plain": [
       "[{'the': 5303},\n",
       " {'to': 3088},\n",
       " {'and': 2434},\n",
       " {'of': 2139},\n",
       " {'is': 1796},\n",
       " {'for': 1707},\n",
       " {'it': 1636},\n",
       " {'in': 1527},\n",
       " {'that': 1281},\n",
       " {'you': 1264},\n",
       " {'have': 1009},\n",
       " {'with': 921},\n",
       " {'this': 869},\n",
       " {'on': 860},\n",
       " {'or': 818},\n",
       " {'if': 783},\n",
       " {'are': 766},\n",
       " {'be': 719},\n",
       " {'but': 618},\n",
       " {'not': 616}]"
      ]
     },
     "execution_count": 14,
     "metadata": {},
     "output_type": "execute_result"
    }
   ],
   "source": [
    "top_terms_without_stop = [{term[0]: term[1]} for term in top_terms(vect_without_stop, train_data, 20)]\n",
    "top_terms_without_stop\n",
    "\n",
    "top_terms_without_stop_test = [{term[0]: term[1]} for term in top_terms(vect_without_stop, test_data, 20)]\n",
    "top_terms_without_stop_test"
   ]
  },
  {
   "cell_type": "markdown",
   "id": "76f9aea4",
   "metadata": {
    "pycharm": {
     "name": "#%% md\n"
    }
   },
   "source": [
    "### Отсечение стоп-слов"
   ]
  },
  {
   "cell_type": "code",
   "execution_count": 15,
   "id": "0926dea4",
   "metadata": {
    "pycharm": {
     "name": "#%%\n"
    }
   },
   "outputs": [],
   "source": [
    "vect_stop = CountVectorizer(max_features=10000, stop_words='english')"
   ]
  },
  {
   "cell_type": "code",
   "execution_count": 16,
   "id": "0666451a",
   "metadata": {
    "pycharm": {
     "name": "#%%\n"
    }
   },
   "outputs": [],
   "source": [
    "train_data_stop = vect_stop.fit_transform(twenty_train_full.data)\n",
    "test_data_stop = vect_stop.transform(twenty_test_full.data)"
   ]
  },
  {
   "cell_type": "code",
   "execution_count": 17,
   "id": "5ced268c",
   "metadata": {
    "pycharm": {
     "name": "#%%\n"
    }
   },
   "outputs": [
    {
     "data": {
      "text/plain": [
       "[{'00': 583},\n",
       " {'windows': 545},\n",
       " {'use': 312},\n",
       " {'like': 308},\n",
       " {'dos': 281},\n",
       " {'new': 273},\n",
       " {'know': 271},\n",
       " {'don': 266},\n",
       " {'just': 261},\n",
       " {'file': 259},\n",
       " {'10': 256},\n",
       " {'50': 220},\n",
       " {'used': 218},\n",
       " {'drive': 211},\n",
       " {'20': 208},\n",
       " {'edu': 201},\n",
       " {'time': 194},\n",
       " {'does': 187},\n",
       " {'software': 184},\n",
       " {'make': 178}]"
      ]
     },
     "execution_count": 17,
     "metadata": {},
     "output_type": "execute_result"
    }
   ],
   "source": [
    "top_terms_stop = [{term[0]: term[1]} for term in top_terms(vect_stop, train_data_stop, 20)]\n",
    "top_terms_stop\n",
    "\n",
    "top_terms_stop_test = [{term[0]: term[1]} for term in top_terms(vect_stop, test_data_stop, 20)]\n",
    "top_terms_stop_test"
   ]
  },
  {
   "cell_type": "markdown",
   "id": "174ac222",
   "metadata": {
    "pycharm": {
     "name": "#%% md\n"
    }
   },
   "source": [
    "### Для данных после стемминга"
   ]
  },
  {
   "cell_type": "markdown",
   "id": "9c49cece",
   "metadata": {
    "pycharm": {
     "name": "#%% md\n"
    }
   },
   "source": [
    "#### Без стоп-слов"
   ]
  },
  {
   "cell_type": "code",
   "execution_count": 18,
   "id": "087d281b",
   "metadata": {
    "pycharm": {
     "name": "#%%\n"
    }
   },
   "outputs": [],
   "source": [
    "vect_stem_without_stop = CountVectorizer(max_features=10000)"
   ]
  },
  {
   "cell_type": "code",
   "execution_count": 19,
   "id": "bb1dd35a",
   "metadata": {
    "pycharm": {
     "name": "#%%\n"
    }
   },
   "outputs": [],
   "source": [
    "train_data_without_stop_stem = vect_stem_without_stop.fit_transform(stem_train)\n",
    "test_data_without_stop_stem = vect_stem_without_stop.transform(stem_test)"
   ]
  },
  {
   "cell_type": "code",
   "execution_count": 20,
   "id": "74a0fb12",
   "metadata": {
    "pycharm": {
     "name": "#%%\n"
    }
   },
   "outputs": [
    {
     "data": {
      "text/plain": [
       "[{'the': 5301},\n",
       " {'to': 3088},\n",
       " {'and': 2435},\n",
       " {'of': 2139},\n",
       " {'is': 1838},\n",
       " {'it': 1711},\n",
       " {'for': 1707},\n",
       " {'in': 1528},\n",
       " {'that': 1284},\n",
       " {'you': 1264},\n",
       " {'have': 1066},\n",
       " {'with': 921},\n",
       " {'do': 913},\n",
       " {'thi': 869},\n",
       " {'on': 863},\n",
       " {'or': 818},\n",
       " {'be': 791},\n",
       " {'if': 783},\n",
       " {'are': 781},\n",
       " {'use': 734}]"
      ]
     },
     "execution_count": 20,
     "metadata": {},
     "output_type": "execute_result"
    }
   ],
   "source": [
    "top_terms_stem = [{term[0]: term[1]} for term in top_terms(vect_stem_without_stop, train_data_without_stop_stem, 20)]\n",
    "top_terms_stem\n",
    "\n",
    "top_terms_stem_test = [{term[0]: term[1]} for term in top_terms(vect_stem_without_stop, test_data_without_stop_stem, 20)]\n",
    "top_terms_stem_test"
   ]
  },
  {
   "cell_type": "markdown",
   "id": "ebf9f9af",
   "metadata": {
    "pycharm": {
     "name": "#%% md\n"
    }
   },
   "source": [
    "#### С использованием стоп-слов"
   ]
  },
  {
   "cell_type": "code",
   "execution_count": 21,
   "id": "08395cd5",
   "metadata": {
    "pycharm": {
     "name": "#%%\n"
    }
   },
   "outputs": [],
   "source": [
    "vect_stem = CountVectorizer(max_features=10000, stop_words='english')"
   ]
  },
  {
   "cell_type": "code",
   "execution_count": 22,
   "id": "1fbcc9bf",
   "metadata": {
    "pycharm": {
     "name": "#%%\n"
    }
   },
   "outputs": [],
   "source": [
    "train_data_stop_stem = vect_stem.fit_transform(stem_train)\n",
    "test_data_stop_stem = vect_stem.transform(stem_test)"
   ]
  },
  {
   "cell_type": "code",
   "execution_count": 23,
   "id": "b29490fe",
   "metadata": {
    "pycharm": {
     "name": "#%%\n"
    }
   },
   "outputs": [
    {
     "data": {
      "text/plain": [
       "[{'thi': 869},\n",
       " {'use': 734},\n",
       " {'00': 583},\n",
       " {'window': 564},\n",
       " {'file': 380},\n",
       " {'work': 361},\n",
       " {'ani': 336},\n",
       " {'ha': 326},\n",
       " {'wa': 326},\n",
       " {'like': 325},\n",
       " {'know': 289},\n",
       " {'new': 278},\n",
       " {'drive': 267},\n",
       " {'just': 261},\n",
       " {'10': 256},\n",
       " {'run': 254},\n",
       " {'doe': 250},\n",
       " {'pleas': 236},\n",
       " {'program': 236},\n",
       " {'make': 235}]"
      ]
     },
     "execution_count": 23,
     "metadata": {},
     "output_type": "execute_result"
    }
   ],
   "source": [
    "top_terms_stop_stem = [{term[0]: term[1]} for term in top_terms(vect_stem, train_data_stop_stem, 20)]\n",
    "top_terms_stop_stem\n",
    "\n",
    "top_terms_stop_stem_test = [{term[0]: term[1]} for term in top_terms(vect_stem, test_data_stop_stem, 20)]\n",
    "top_terms_stop_stem_test"
   ]
  },
  {
   "cell_type": "markdown",
   "id": "0ae93e0d",
   "metadata": {
    "pycharm": {
     "name": "#%% md\n"
    }
   },
   "source": [
    "### Векторизация выборки с помощью TfidfTransformer (TF и TF-IDF)"
   ]
  },
  {
   "cell_type": "markdown",
   "id": "6b04d3df",
   "metadata": {
    "pycharm": {
     "name": "#%% md\n"
    }
   },
   "source": [
    "#### Без использования стоп-слов"
   ]
  },
  {
   "cell_type": "code",
   "execution_count": 24,
   "id": "41946fb9",
   "metadata": {
    "pycharm": {
     "name": "#%%\n"
    }
   },
   "outputs": [],
   "source": [
    "from sklearn.feature_extraction.text import TfidfTransformer"
   ]
  },
  {
   "cell_type": "code",
   "execution_count": 25,
   "id": "37672b7c",
   "metadata": {
    "pycharm": {
     "name": "#%%\n"
    }
   },
   "outputs": [],
   "source": [
    "tf = TfidfTransformer(use_idf=False)\n",
    "tfidf = TfidfTransformer(use_idf=True)"
   ]
  },
  {
   "cell_type": "code",
   "execution_count": 26,
   "id": "ba29e15c",
   "metadata": {
    "pycharm": {
     "name": "#%%\n"
    }
   },
   "outputs": [],
   "source": [
    "train_data_tf = tf.fit_transform(train_data)\n",
    "test_data_tf = tf.transform(test_data)\n",
    "\n",
    "train_data_tfidf = tfidf.fit_transform(train_data)\n",
    "test_data_tfidf = tfidf.transform(test_data)"
   ]
  },
  {
   "cell_type": "code",
   "execution_count": 27,
   "id": "58cedc43",
   "metadata": {
    "pycharm": {
     "name": "#%%\n"
    }
   },
   "outputs": [
    {
     "data": {
      "text/plain": [
       "[{'the': 110.54034814082188},\n",
       " {'to': 74.53330706423196},\n",
       " {'and': 59.49702901688886},\n",
       " {'of': 55.00612226795159},\n",
       " {'it': 51.437481151335135},\n",
       " {'for': 51.171080962654656},\n",
       " {'is': 50.718071500871154},\n",
       " {'that': 44.362737722486365},\n",
       " {'you': 42.734546090195195},\n",
       " {'in': 42.50992737276512},\n",
       " {'have': 35.42627259647494},\n",
       " {'or': 30.117888661918553},\n",
       " {'on': 30.0179938849296},\n",
       " {'with': 28.318691298767323},\n",
       " {'if': 28.21545774406861},\n",
       " {'this': 27.8614040902488},\n",
       " {'are': 26.408399492923788},\n",
       " {'can': 25.72077920823754},\n",
       " {'windows': 25.587587452136255},\n",
       " {'be': 25.386806878300593}]"
      ]
     },
     "execution_count": 27,
     "metadata": {},
     "output_type": "execute_result"
    }
   ],
   "source": [
    "top_terms_tf = [{term[0]: term[1]} for term in top_terms(vect_without_stop, train_data_tf, 20)]\n",
    "top_terms_tf\n",
    "\n",
    "top_terms_tf_test = [{term[0]: term[1]} for term in top_terms(vect_without_stop, test_data_tf, 20)]\n",
    "top_terms_tf_test\n",
    "\n",
    "top_terms_tfidf = [{term[0]: term[1]} for term in top_terms(vect_without_stop, train_data_tfidf, 20)]\n",
    "top_terms_tfidf\n",
    "\n",
    "top_terms_tfidf_test = [{term[0]: term[1]} for term in top_terms(vect_without_stop, test_data_tfidf, 20)]\n",
    "top_terms_tfidf_test"
   ]
  },
  {
   "cell_type": "markdown",
   "id": "0f6cdc26",
   "metadata": {
    "pycharm": {
     "name": "#%% md\n"
    }
   },
   "source": [
    "#### С использованием стоп-слов"
   ]
  },
  {
   "cell_type": "code",
   "execution_count": 28,
   "id": "0e08cd3d",
   "metadata": {
    "pycharm": {
     "name": "#%%\n"
    }
   },
   "outputs": [],
   "source": [
    "tf = TfidfTransformer(use_idf=False)\n",
    "tfidf = TfidfTransformer(use_idf=True)"
   ]
  },
  {
   "cell_type": "code",
   "execution_count": 29,
   "id": "cee32073",
   "metadata": {
    "pycharm": {
     "name": "#%%\n"
    }
   },
   "outputs": [],
   "source": [
    "train_data_stop_tf = tf.fit_transform(train_data_stop)\n",
    "test_data_stop_tf = tf.transform(test_data_stop)\n",
    "\n",
    "train_data_stop_tfidf = tfidf.fit_transform(train_data_stop)\n",
    "test_data_stop_tfidf = tfidf.transform(test_data_stop)"
   ]
  },
  {
   "cell_type": "code",
   "execution_count": 30,
   "id": "6bab80cb",
   "metadata": {
    "pycharm": {
     "name": "#%%\n"
    }
   },
   "outputs": [
    {
     "data": {
      "text/plain": [
       "[{'windows': 29.525766988247245},\n",
       " {'know': 19.401071908073977},\n",
       " {'dos': 18.328724185534426},\n",
       " {'like': 18.22825166865843},\n",
       " {'edu': 17.720422089543977},\n",
       " {'just': 17.59219450994192},\n",
       " {'don': 16.953572988898507},\n",
       " {'thanks': 16.89266199027737},\n",
       " {'use': 16.745586293513156},\n",
       " {'does': 14.87062950349624},\n",
       " {'sale': 14.848851201411348},\n",
       " {'00': 14.63805388598326},\n",
       " {'new': 14.253487477230415},\n",
       " {'drive': 14.107584262411871},\n",
       " {'os': 14.072038969746567},\n",
       " {'program': 14.02943548800833},\n",
       " {'mail': 13.843080897295174},\n",
       " {'file': 13.606763403975274},\n",
       " {'think': 13.491354914405813},\n",
       " {'make': 13.380164760732074}]"
      ]
     },
     "execution_count": 30,
     "metadata": {},
     "output_type": "execute_result"
    }
   ],
   "source": [
    "top_terms_stop_tf = [{term[0]: term[1]} for term in top_terms(vect_stop, train_data_stop_tf, 20)]\n",
    "top_terms_stop_tf\n",
    "\n",
    "top_terms_stop_tf_test = [{term[0]: term[1]} for term in top_terms(vect_stop, test_data_stop_tf, 20)]\n",
    "top_terms_stop_tf_test\n",
    "\n",
    "top_terms_stop_tfidf = [{term[0]: term[1]} for term in top_terms(vect_stop, train_data_stop_tfidf, 20)]\n",
    "top_terms_stop_tfidf\n",
    "\n",
    "top_terms_stop_tfidf_test = [{term[0]: term[1]} for term in top_terms(vect_stop, test_data_stop_tfidf, 20)]\n",
    "top_terms_stop_tfidf_test"
   ]
  },
  {
   "cell_type": "markdown",
   "id": "20a412af",
   "metadata": {
    "pycharm": {
     "name": "#%% md\n"
    }
   },
   "source": [
    "#### Со стеммингом без стоп-слов"
   ]
  },
  {
   "cell_type": "code",
   "execution_count": 31,
   "id": "7093aff3",
   "metadata": {
    "pycharm": {
     "name": "#%%\n"
    }
   },
   "outputs": [],
   "source": [
    "tf = TfidfTransformer(use_idf=False)\n",
    "tfidf = TfidfTransformer(use_idf=True)"
   ]
  },
  {
   "cell_type": "code",
   "execution_count": 32,
   "id": "a46a4bdb",
   "metadata": {
    "pycharm": {
     "name": "#%%\n"
    }
   },
   "outputs": [],
   "source": [
    "train_data_stem_tf = tf.fit_transform(train_data_without_stop_stem)\n",
    "test_data_stem_tf = tf.transform(test_data_without_stop_stem)\n",
    "\n",
    "train_data_stem_tfidf = tfidf.fit_transform(train_data_without_stop_stem)\n",
    "test_data_stem_tfidf = tfidf.transform(test_data_without_stop_stem)"
   ]
  },
  {
   "cell_type": "code",
   "execution_count": 33,
   "id": "1b278031",
   "metadata": {
    "pycharm": {
     "name": "#%%\n"
    }
   },
   "outputs": [
    {
     "data": {
      "text/plain": [
       "[{'the': 110.15007259688721},\n",
       " {'to': 74.6970778664183},\n",
       " {'and': 59.452672256420016},\n",
       " {'of': 54.694210335382635},\n",
       " {'it': 52.94695312834682},\n",
       " {'is': 51.959038586981414},\n",
       " {'for': 51.36681718395666},\n",
       " {'that': 44.33877517975381},\n",
       " {'you': 42.705239546726474},\n",
       " {'in': 42.419008264604095},\n",
       " {'have': 36.75793858768384},\n",
       " {'do': 34.455101685751444},\n",
       " {'on': 30.18515384300593},\n",
       " {'or': 30.111057936497932},\n",
       " {'if': 28.29711228464798},\n",
       " {'with': 28.247127641386854},\n",
       " {'thi': 27.88182171437507},\n",
       " {'window': 27.20067077113115},\n",
       " {'be': 27.19403159253378},\n",
       " {'are': 26.861145726964967}]"
      ]
     },
     "execution_count": 33,
     "metadata": {},
     "output_type": "execute_result"
    }
   ],
   "source": [
    "top_terms_stem_tf = [{term[0]: term[1]} for term in top_terms(vect_stem_without_stop, train_data_stem_tf, 20)]\n",
    "top_terms_stem_tf\n",
    "\n",
    "top_terms_stem_tf_test = [{term[0]: term[1]} for term in top_terms(vect_stem_without_stop, test_data_stem_tf, 20)]\n",
    "top_terms_stem_tf_test\n",
    "\n",
    "top_terms_stem_tfidf = [{term[0]: term[1]} for term in top_terms(vect_stem_without_stop, train_data_stem_tfidf, 20)]\n",
    "top_terms_stem_tfidf\n",
    "\n",
    "top_terms_stem_tfidf_test = [{term[0]: term[1]} for term in top_terms(vect_stem_without_stop, test_data_stem_tfidf, 20)]\n",
    "top_terms_stem_tfidf_test"
   ]
  },
  {
   "cell_type": "markdown",
   "id": "7c54e100",
   "metadata": {
    "pycharm": {
     "name": "#%% md\n"
    }
   },
   "source": [
    "#### Со стеммингом с использованием стоп-слов"
   ]
  },
  {
   "cell_type": "code",
   "execution_count": 34,
   "id": "b2f2d72b",
   "metadata": {
    "pycharm": {
     "name": "#%%\n"
    }
   },
   "outputs": [],
   "source": [
    "tf = TfidfTransformer(use_idf=False)\n",
    "tfidf = TfidfTransformer(use_idf=True)"
   ]
  },
  {
   "cell_type": "code",
   "execution_count": 35,
   "id": "c39743f8",
   "metadata": {
    "pycharm": {
     "name": "#%%\n"
    }
   },
   "outputs": [],
   "source": [
    "train_data_stem_stop_tf = tf.fit_transform(train_data_stop_stem)\n",
    "test_data_stem_stop_tf = tf.transform(test_data_stop_stem)\n",
    "\n",
    "train_data_stem_stop_tfidf = tfidf.fit_transform(train_data_stop_stem)\n",
    "test_data_stem_stop_tfidf = tfidf.transform(test_data_stop_stem)"
   ]
  },
  {
   "cell_type": "code",
   "execution_count": 36,
   "id": "29563dfb",
   "metadata": {
    "pycharm": {
     "name": "#%%\n"
    }
   },
   "outputs": [
    {
     "data": {
      "text/plain": [
       "[{'wmbxlt': 52.138731148601934},\n",
       " {'k9': 34.439374615801476},\n",
       " {'jd0': 33.66646041364366},\n",
       " {'v5': 31.87961880209994},\n",
       " {'introductori': 30.841892061552258},\n",
       " {'cy': 28.71858022009789},\n",
       " {'titl': 28.010190251053274},\n",
       " {'dk': 27.356607275584427},\n",
       " {'cxs': 24.509161821966384},\n",
       " {'mower': 24.466160631107165},\n",
       " {'d1': 24.422073918787923},\n",
       " {'rmw': 24.36581862630775},\n",
       " {'v5e': 23.16783154652809},\n",
       " {'like': 21.926491062038906},\n",
       " {'lite': 20.570809342527713},\n",
       " {'tr': 19.925039649403804},\n",
       " {'g9v4e': 19.677782012899794},\n",
       " {'toler': 19.18157693518253},\n",
       " {'morn': 18.717487462169895},\n",
       " {'00': 18.247527832473146}]"
      ]
     },
     "execution_count": 36,
     "metadata": {},
     "output_type": "execute_result"
    }
   ],
   "source": [
    "top_terms_stem_stop_tf = [{term[0]: term[1]} for term in top_terms(vect_stem, train_data_stop_tf, 20)]\n",
    "top_terms_stem_stop_tf\n",
    "\n",
    "top_terms_stem_stop_tf_test = [{term[0]: term[1]} for term in top_terms(vect_stem, test_data_stop_tf, 20)]\n",
    "top_terms_stem_stop_tf_test\n",
    "\n",
    "top_terms_stem_stop_tfidf = [{term[0]: term[1]} for term in top_terms(vect_stem, train_data_stop_tf, 20)]\n",
    "top_terms_stem_stop_tfidf\n",
    "\n",
    "top_terms_stem_stop_tfidf_test = [{term[0]: term[1]} for term in top_terms(vect_stem, test_data_stop_tf, 20)]\n",
    "top_terms_stem_stop_tfidf_test"
   ]
  },
  {
   "cell_type": "markdown",
   "id": "a7ec7a5d",
   "metadata": {
    "pycharm": {
     "name": "#%% md\n"
    }
   },
   "source": [
    "### Составление таблицы"
   ]
  },
  {
   "cell_type": "code",
   "execution_count": 37,
   "id": "17759eee",
   "metadata": {
    "pycharm": {
     "name": "#%%\n"
    }
   },
   "outputs": [],
   "source": [
    "import pandas as pd"
   ]
  },
  {
   "cell_type": "code",
   "execution_count": 38,
   "id": "7349d6cf",
   "metadata": {
    "pycharm": {
     "name": "#%%\n"
    }
   },
   "outputs": [],
   "source": [
    "columns = pd.MultiIndex.from_product([['Count', 'TF', 'TF-IDF'], ['Без стоп-слов', 'С стоп-словами']])"
   ]
  },
  {
   "cell_type": "markdown",
   "id": "8792cd68",
   "metadata": {
    "pycharm": {
     "name": "#%% md\n"
    }
   },
   "source": [
    "#### Без стемминга"
   ]
  },
  {
   "cell_type": "code",
   "execution_count": 39,
   "id": "914e3db3",
   "metadata": {
    "pycharm": {
     "name": "#%%\n"
    }
   },
   "outputs": [
    {
     "data": {
      "text/html": [
       "<div>\n",
       "<style scoped>\n",
       "    .dataframe tbody tr th:only-of-type {\n",
       "        vertical-align: middle;\n",
       "    }\n",
       "\n",
       "    .dataframe tbody tr th {\n",
       "        vertical-align: top;\n",
       "    }\n",
       "\n",
       "    .dataframe thead tr th {\n",
       "        text-align: left;\n",
       "    }\n",
       "</style>\n",
       "<table border=\"1\" class=\"dataframe\">\n",
       "  <thead>\n",
       "    <tr>\n",
       "      <th></th>\n",
       "      <th colspan=\"2\" halign=\"left\">Count</th>\n",
       "      <th colspan=\"2\" halign=\"left\">TF</th>\n",
       "      <th colspan=\"2\" halign=\"left\">TF-IDF</th>\n",
       "    </tr>\n",
       "    <tr>\n",
       "      <th></th>\n",
       "      <th>Без стоп-слов</th>\n",
       "      <th>С стоп-словами</th>\n",
       "      <th>Без стоп-слов</th>\n",
       "      <th>С стоп-словами</th>\n",
       "      <th>Без стоп-слов</th>\n",
       "      <th>С стоп-словами</th>\n",
       "    </tr>\n",
       "  </thead>\n",
       "  <tbody>\n",
       "    <tr>\n",
       "      <th>0</th>\n",
       "      <td>{'ax': 62375}</td>\n",
       "      <td>{'ax': 62375}</td>\n",
       "      <td>{'the': 446.4656940475736}</td>\n",
       "      <td>{'windows': 71.81439255394872}</td>\n",
       "      <td>{'the': 162.60429021536854}</td>\n",
       "      <td>{'windows': 39.7445262196255}</td>\n",
       "    </tr>\n",
       "    <tr>\n",
       "      <th>1</th>\n",
       "      <td>{'the': 8252}</td>\n",
       "      <td>{'max': 4490}</td>\n",
       "      <td>{'to': 261.22665446068356}</td>\n",
       "      <td>{'like': 54.5113487304099}</td>\n",
       "      <td>{'to': 102.25127726748715}</td>\n",
       "      <td>{'like': 28.008918118727177}</td>\n",
       "    </tr>\n",
       "    <tr>\n",
       "      <th>2</th>\n",
       "      <td>{'max': 4490}</td>\n",
       "      <td>{'g9v': 1166}</td>\n",
       "      <td>{'and': 205.2391454163949}</td>\n",
       "      <td>{'use': 53.13620559333252}</td>\n",
       "      <td>{'and': 81.36832968340721}</td>\n",
       "      <td>{'use': 27.171910022459535}</td>\n",
       "    </tr>\n",
       "    <tr>\n",
       "      <th>3</th>\n",
       "      <td>{'to': 4457}</td>\n",
       "      <td>{'b8f': 1111}</td>\n",
       "      <td>{'for': 192.4074870803448}</td>\n",
       "      <td>{'know': 45.23828076117531}</td>\n",
       "      <td>{'for': 76.68641363067908}</td>\n",
       "      <td>{'thanks': 26.03241106725381}</td>\n",
       "    </tr>\n",
       "    <tr>\n",
       "      <th>4</th>\n",
       "      <td>{'and': 3552}</td>\n",
       "      <td>{'a86': 916}</td>\n",
       "      <td>{'of': 169.08696371281525}</td>\n",
       "      <td>{'thanks': 43.89006613294745}</td>\n",
       "      <td>{'it': 73.52989253705975}</td>\n",
       "      <td>{'know': 25.37531710215435}</td>\n",
       "    </tr>\n",
       "    <tr>\n",
       "      <th>5</th>\n",
       "      <td>{'of': 3065}</td>\n",
       "      <td>{'pl': 826}</td>\n",
       "      <td>{'it': 155.34973140754138}</td>\n",
       "      <td>{'new': 41.10851125187996}</td>\n",
       "      <td>{'of': 73.14049941942646}</td>\n",
       "      <td>{'new': 23.644988255365696}</td>\n",
       "    </tr>\n",
       "    <tr>\n",
       "      <th>6</th>\n",
       "      <td>{'is': 2799}</td>\n",
       "      <td>{'145': 756}</td>\n",
       "      <td>{'is': 154.12013563203988}</td>\n",
       "      <td>{'just': 39.226259668278665}</td>\n",
       "      <td>{'is': 69.70977368538801}</td>\n",
       "      <td>{'does': 23.577533895766063}</td>\n",
       "    </tr>\n",
       "    <tr>\n",
       "      <th>7</th>\n",
       "      <td>{'for': 2744}</td>\n",
       "      <td>{'windows': 719}</td>\n",
       "      <td>{'in': 146.6094196335047}</td>\n",
       "      <td>{'does': 39.000166212753065}</td>\n",
       "      <td>{'in': 62.568116761046504}</td>\n",
       "      <td>{'just': 21.6903989307871}</td>\n",
       "    </tr>\n",
       "    <tr>\n",
       "      <th>8</th>\n",
       "      <td>{'it': 2419}</td>\n",
       "      <td>{'1d9': 672}</td>\n",
       "      <td>{'you': 117.07274987561605}</td>\n",
       "      <td>{'used': 37.871521733587635}</td>\n",
       "      <td>{'you': 61.27974186630007}</td>\n",
       "      <td>{'edu': 21.014223496022545}</td>\n",
       "    </tr>\n",
       "    <tr>\n",
       "      <th>9</th>\n",
       "      <td>{'in': 2391}</td>\n",
       "      <td>{'00': 651}</td>\n",
       "      <td>{'that': 98.40429548045161}</td>\n",
       "      <td>{'don': 35.704323145993186}</td>\n",
       "      <td>{'that': 53.68564233993087}</td>\n",
       "      <td>{'used': 20.941176184552322}</td>\n",
       "    </tr>\n",
       "    <tr>\n",
       "      <th>10</th>\n",
       "      <td>{'you': 1993}</td>\n",
       "      <td>{'use': 571}</td>\n",
       "      <td>{'have': 97.1906091376847}</td>\n",
       "      <td>{'edu': 34.99341982654917}</td>\n",
       "      <td>{'have': 49.29092638324962}</td>\n",
       "      <td>{'mail': 20.92060454000407}</td>\n",
       "    </tr>\n",
       "    <tr>\n",
       "      <th>11</th>\n",
       "      <td>{'that': 1713}</td>\n",
       "      <td>{'34u': 549}</td>\n",
       "      <td>{'with': 93.01300913398077}</td>\n",
       "      <td>{'good': 34.190376652753564}</td>\n",
       "      <td>{'with': 46.76683441413689}</td>\n",
       "      <td>{'00': 20.669340203568055}</td>\n",
       "    </tr>\n",
       "    <tr>\n",
       "      <th>12</th>\n",
       "      <td>{'with': 1479}</td>\n",
       "      <td>{'1t': 510}</td>\n",
       "      <td>{'or': 84.39187366427578}</td>\n",
       "      <td>{'sale': 33.78559867655903}</td>\n",
       "      <td>{'or': 44.652404227660746}</td>\n",
       "      <td>{'good': 20.581265300443146}</td>\n",
       "    </tr>\n",
       "    <tr>\n",
       "      <th>13</th>\n",
       "      <td>{'have': 1438}</td>\n",
       "      <td>{'0t': 505}</td>\n",
       "      <td>{'this': 79.32304211220192}</td>\n",
       "      <td>{'mail': 33.64708925406388}</td>\n",
       "      <td>{'this': 43.22291314488}</td>\n",
       "      <td>{'sale': 20.443368744942852}</td>\n",
       "    </tr>\n",
       "    <tr>\n",
       "      <th>14</th>\n",
       "      <td>{'or': 1363}</td>\n",
       "      <td>{'like': 476}</td>\n",
       "      <td>{'on': 77.3371201250956}</td>\n",
       "      <td>{'file': 28.109132980833586}</td>\n",
       "      <td>{'on': 42.84704031115693}</td>\n",
       "      <td>{'file': 20.299105838793295}</td>\n",
       "    </tr>\n",
       "    <tr>\n",
       "      <th>15</th>\n",
       "      <td>{'on': 1288}</td>\n",
       "      <td>{'bhj': 456}</td>\n",
       "      <td>{'if': 70.99502055432943}</td>\n",
       "      <td>{'card': 27.873923641453192}</td>\n",
       "      <td>{'are': 39.76222598104707}</td>\n",
       "      <td>{'don': 20.250698917903524}</td>\n",
       "    </tr>\n",
       "    <tr>\n",
       "      <th>16</th>\n",
       "      <td>{'this': 1272}</td>\n",
       "      <td>{'75u': 447}</td>\n",
       "      <td>{'are': 69.62363103209533}</td>\n",
       "      <td>{'need': 27.769691894594608}</td>\n",
       "      <td>{'if': 39.66713272933124}</td>\n",
       "      <td>{'card': 19.750641402136843}</td>\n",
       "    </tr>\n",
       "    <tr>\n",
       "      <th>17</th>\n",
       "      <td>{'are': 1182}</td>\n",
       "      <td>{'3t': 441}</td>\n",
       "      <td>{'be': 62.340543997594516}</td>\n",
       "      <td>{'using': 27.023144307210433}</td>\n",
       "      <td>{'be': 37.09993721376812}</td>\n",
       "      <td>{'dos': 19.491632090866304}</td>\n",
       "    </tr>\n",
       "    <tr>\n",
       "      <th>18</th>\n",
       "      <td>{'g9v': 1166}</td>\n",
       "      <td>{'new': 436}</td>\n",
       "      <td>{'but': 55.17214853046288}</td>\n",
       "      <td>{'offer': 26.670074361863733}</td>\n",
       "      <td>{'windows': 35.131933480856496}</td>\n",
       "      <td>{'offer': 18.28785076259062}</td>\n",
       "    </tr>\n",
       "    <tr>\n",
       "      <th>19</th>\n",
       "      <td>{'be': 1135}</td>\n",
       "      <td>{'giz': 433}</td>\n",
       "      <td>{'can': 55.09397266533334}</td>\n",
       "      <td>{'dos': 26.461288189181644}</td>\n",
       "      <td>{'can': 34.188839774160826}</td>\n",
       "      <td>{'looking': 17.969392799477593}</td>\n",
       "    </tr>\n",
       "  </tbody>\n",
       "</table>\n",
       "</div>"
      ],
      "text/plain": [
       "             Count                                             TF  \\\n",
       "     Без стоп-слов    С стоп-словами                Без стоп-слов   \n",
       "0    {'ax': 62375}     {'ax': 62375}   {'the': 446.4656940475736}   \n",
       "1    {'the': 8252}     {'max': 4490}   {'to': 261.22665446068356}   \n",
       "2    {'max': 4490}     {'g9v': 1166}   {'and': 205.2391454163949}   \n",
       "3     {'to': 4457}     {'b8f': 1111}   {'for': 192.4074870803448}   \n",
       "4    {'and': 3552}      {'a86': 916}   {'of': 169.08696371281525}   \n",
       "5     {'of': 3065}       {'pl': 826}   {'it': 155.34973140754138}   \n",
       "6     {'is': 2799}      {'145': 756}   {'is': 154.12013563203988}   \n",
       "7    {'for': 2744}  {'windows': 719}    {'in': 146.6094196335047}   \n",
       "8     {'it': 2419}      {'1d9': 672}  {'you': 117.07274987561605}   \n",
       "9     {'in': 2391}       {'00': 651}  {'that': 98.40429548045161}   \n",
       "10   {'you': 1993}      {'use': 571}   {'have': 97.1906091376847}   \n",
       "11  {'that': 1713}      {'34u': 549}  {'with': 93.01300913398077}   \n",
       "12  {'with': 1479}       {'1t': 510}    {'or': 84.39187366427578}   \n",
       "13  {'have': 1438}       {'0t': 505}  {'this': 79.32304211220192}   \n",
       "14    {'or': 1363}     {'like': 476}     {'on': 77.3371201250956}   \n",
       "15    {'on': 1288}      {'bhj': 456}    {'if': 70.99502055432943}   \n",
       "16  {'this': 1272}      {'75u': 447}   {'are': 69.62363103209533}   \n",
       "17   {'are': 1182}       {'3t': 441}   {'be': 62.340543997594516}   \n",
       "18   {'g9v': 1166}      {'new': 436}   {'but': 55.17214853046288}   \n",
       "19    {'be': 1135}      {'giz': 433}   {'can': 55.09397266533334}   \n",
       "\n",
       "                                                             TF-IDF  \\\n",
       "                    С стоп-словами                    Без стоп-слов   \n",
       "0   {'windows': 71.81439255394872}      {'the': 162.60429021536854}   \n",
       "1       {'like': 54.5113487304099}       {'to': 102.25127726748715}   \n",
       "2       {'use': 53.13620559333252}       {'and': 81.36832968340721}   \n",
       "3      {'know': 45.23828076117531}       {'for': 76.68641363067908}   \n",
       "4    {'thanks': 43.89006613294745}        {'it': 73.52989253705975}   \n",
       "5       {'new': 41.10851125187996}        {'of': 73.14049941942646}   \n",
       "6     {'just': 39.226259668278665}        {'is': 69.70977368538801}   \n",
       "7     {'does': 39.000166212753065}       {'in': 62.568116761046504}   \n",
       "8     {'used': 37.871521733587635}       {'you': 61.27974186630007}   \n",
       "9      {'don': 35.704323145993186}      {'that': 53.68564233993087}   \n",
       "10      {'edu': 34.99341982654917}      {'have': 49.29092638324962}   \n",
       "11    {'good': 34.190376652753564}      {'with': 46.76683441413689}   \n",
       "12     {'sale': 33.78559867655903}       {'or': 44.652404227660746}   \n",
       "13     {'mail': 33.64708925406388}         {'this': 43.22291314488}   \n",
       "14    {'file': 28.109132980833586}        {'on': 42.84704031115693}   \n",
       "15    {'card': 27.873923641453192}       {'are': 39.76222598104707}   \n",
       "16    {'need': 27.769691894594608}        {'if': 39.66713272933124}   \n",
       "17   {'using': 27.023144307210433}        {'be': 37.09993721376812}   \n",
       "18   {'offer': 26.670074361863733}  {'windows': 35.131933480856496}   \n",
       "19     {'dos': 26.461288189181644}      {'can': 34.188839774160826}   \n",
       "\n",
       "                                     \n",
       "                     С стоп-словами  \n",
       "0     {'windows': 39.7445262196255}  \n",
       "1      {'like': 28.008918118727177}  \n",
       "2       {'use': 27.171910022459535}  \n",
       "3     {'thanks': 26.03241106725381}  \n",
       "4       {'know': 25.37531710215435}  \n",
       "5       {'new': 23.644988255365696}  \n",
       "6      {'does': 23.577533895766063}  \n",
       "7        {'just': 21.6903989307871}  \n",
       "8       {'edu': 21.014223496022545}  \n",
       "9      {'used': 20.941176184552322}  \n",
       "10      {'mail': 20.92060454000407}  \n",
       "11       {'00': 20.669340203568055}  \n",
       "12     {'good': 20.581265300443146}  \n",
       "13     {'sale': 20.443368744942852}  \n",
       "14     {'file': 20.299105838793295}  \n",
       "15      {'don': 20.250698917903524}  \n",
       "16     {'card': 19.750641402136843}  \n",
       "17      {'dos': 19.491632090866304}  \n",
       "18     {'offer': 18.28785076259062}  \n",
       "19  {'looking': 17.969392799477593}  "
      ]
     },
     "execution_count": 39,
     "metadata": {},
     "output_type": "execute_result"
    }
   ],
   "source": [
    "df1 = pd.DataFrame(columns=columns)\n",
    "\n",
    "df1['Count', 'Без стоп-слов'] = top_terms_without_stop\n",
    "df1['TF', 'Без стоп-слов'] = top_terms_tf\n",
    "df1['TF-IDF', 'Без стоп-слов'] = top_terms_tfidf\n",
    "\n",
    "df1['Count', 'С стоп-словами'] = top_terms_stop\n",
    "df1['TF', 'С стоп-словами'] = top_terms_stop_tf\n",
    "df1['TF-IDF', 'С стоп-словами'] = top_terms_stop_tfidf\n",
    "\n",
    "df1"
   ]
  },
  {
   "cell_type": "code",
   "execution_count": 40,
   "id": "80a5abd1",
   "metadata": {
    "pycharm": {
     "name": "#%%\n"
    }
   },
   "outputs": [
    {
     "data": {
      "text/html": [
       "<div>\n",
       "<style scoped>\n",
       "    .dataframe tbody tr th:only-of-type {\n",
       "        vertical-align: middle;\n",
       "    }\n",
       "\n",
       "    .dataframe tbody tr th {\n",
       "        vertical-align: top;\n",
       "    }\n",
       "\n",
       "    .dataframe thead tr th {\n",
       "        text-align: left;\n",
       "    }\n",
       "</style>\n",
       "<table border=\"1\" class=\"dataframe\">\n",
       "  <thead>\n",
       "    <tr>\n",
       "      <th></th>\n",
       "      <th colspan=\"2\" halign=\"left\">Count</th>\n",
       "      <th colspan=\"2\" halign=\"left\">TF</th>\n",
       "      <th colspan=\"2\" halign=\"left\">TF-IDF</th>\n",
       "    </tr>\n",
       "    <tr>\n",
       "      <th></th>\n",
       "      <th>Без стоп-слов</th>\n",
       "      <th>С стоп-словами</th>\n",
       "      <th>Без стоп-слов</th>\n",
       "      <th>С стоп-словами</th>\n",
       "      <th>Без стоп-слов</th>\n",
       "      <th>С стоп-словами</th>\n",
       "    </tr>\n",
       "  </thead>\n",
       "  <tbody>\n",
       "    <tr>\n",
       "      <th>0</th>\n",
       "      <td>{'the': 5303}</td>\n",
       "      <td>{'00': 583}</td>\n",
       "      <td>{'the': 291.83451302743805}</td>\n",
       "      <td>{'windows': 52.138731148601934}</td>\n",
       "      <td>{'the': 110.54034814082188}</td>\n",
       "      <td>{'windows': 29.525766988247245}</td>\n",
       "    </tr>\n",
       "    <tr>\n",
       "      <th>1</th>\n",
       "      <td>{'to': 3088}</td>\n",
       "      <td>{'windows': 545}</td>\n",
       "      <td>{'to': 183.90838083387956}</td>\n",
       "      <td>{'like': 34.439374615801476}</td>\n",
       "      <td>{'to': 74.53330706423196}</td>\n",
       "      <td>{'know': 19.401071908073977}</td>\n",
       "    </tr>\n",
       "    <tr>\n",
       "      <th>2</th>\n",
       "      <td>{'and': 2434}</td>\n",
       "      <td>{'use': 312}</td>\n",
       "      <td>{'and': 146.156505085496}</td>\n",
       "      <td>{'know': 33.66646041364366}</td>\n",
       "      <td>{'and': 59.49702901688886}</td>\n",
       "      <td>{'dos': 18.328724185534426}</td>\n",
       "    </tr>\n",
       "    <tr>\n",
       "      <th>3</th>\n",
       "      <td>{'of': 2139}</td>\n",
       "      <td>{'like': 308}</td>\n",
       "      <td>{'for': 125.43397981498244}</td>\n",
       "      <td>{'use': 31.87961880209994}</td>\n",
       "      <td>{'of': 55.00612226795159}</td>\n",
       "      <td>{'like': 18.22825166865843}</td>\n",
       "    </tr>\n",
       "    <tr>\n",
       "      <th>4</th>\n",
       "      <td>{'is': 1796}</td>\n",
       "      <td>{'dos': 281}</td>\n",
       "      <td>{'of': 122.066568487921}</td>\n",
       "      <td>{'just': 30.841892061552258}</td>\n",
       "      <td>{'it': 51.437481151335135}</td>\n",
       "      <td>{'edu': 17.720422089543977}</td>\n",
       "    </tr>\n",
       "    <tr>\n",
       "      <th>5</th>\n",
       "      <td>{'for': 1707}</td>\n",
       "      <td>{'new': 273}</td>\n",
       "      <td>{'is': 107.84097417025771}</td>\n",
       "      <td>{'don': 28.71858022009789}</td>\n",
       "      <td>{'for': 51.171080962654656}</td>\n",
       "      <td>{'just': 17.59219450994192}</td>\n",
       "    </tr>\n",
       "    <tr>\n",
       "      <th>6</th>\n",
       "      <td>{'it': 1636}</td>\n",
       "      <td>{'know': 271}</td>\n",
       "      <td>{'it': 105.27518554867675}</td>\n",
       "      <td>{'thanks': 28.010190251053274}</td>\n",
       "      <td>{'is': 50.718071500871154}</td>\n",
       "      <td>{'don': 16.953572988898507}</td>\n",
       "    </tr>\n",
       "    <tr>\n",
       "      <th>7</th>\n",
       "      <td>{'in': 1527}</td>\n",
       "      <td>{'don': 266}</td>\n",
       "      <td>{'in': 97.01628770404322}</td>\n",
       "      <td>{'edu': 27.356607275584427}</td>\n",
       "      <td>{'that': 44.362737722486365}</td>\n",
       "      <td>{'thanks': 16.89266199027737}</td>\n",
       "    </tr>\n",
       "    <tr>\n",
       "      <th>8</th>\n",
       "      <td>{'that': 1281}</td>\n",
       "      <td>{'just': 261}</td>\n",
       "      <td>{'you': 78.68365428133383}</td>\n",
       "      <td>{'does': 24.509161821966384}</td>\n",
       "      <td>{'you': 42.734546090195195}</td>\n",
       "      <td>{'use': 16.745586293513156}</td>\n",
       "    </tr>\n",
       "    <tr>\n",
       "      <th>9</th>\n",
       "      <td>{'you': 1264}</td>\n",
       "      <td>{'file': 259}</td>\n",
       "      <td>{'that': 78.59916577831366}</td>\n",
       "      <td>{'new': 24.466160631107165}</td>\n",
       "      <td>{'in': 42.50992737276512}</td>\n",
       "      <td>{'does': 14.87062950349624}</td>\n",
       "    </tr>\n",
       "    <tr>\n",
       "      <th>10</th>\n",
       "      <td>{'have': 1009}</td>\n",
       "      <td>{'10': 256}</td>\n",
       "      <td>{'have': 67.79878229557147}</td>\n",
       "      <td>{'dos': 24.422073918787923}</td>\n",
       "      <td>{'have': 35.42627259647494}</td>\n",
       "      <td>{'sale': 14.848851201411348}</td>\n",
       "    </tr>\n",
       "    <tr>\n",
       "      <th>11</th>\n",
       "      <td>{'with': 921}</td>\n",
       "      <td>{'50': 220}</td>\n",
       "      <td>{'or': 55.76257536048489}</td>\n",
       "      <td>{'sale': 24.36581862630775}</td>\n",
       "      <td>{'or': 30.117888661918553}</td>\n",
       "      <td>{'00': 14.63805388598326}</td>\n",
       "    </tr>\n",
       "    <tr>\n",
       "      <th>12</th>\n",
       "      <td>{'this': 869}</td>\n",
       "      <td>{'used': 218}</td>\n",
       "      <td>{'with': 55.63974205275723}</td>\n",
       "      <td>{'used': 23.16783154652809}</td>\n",
       "      <td>{'on': 30.0179938849296}</td>\n",
       "      <td>{'new': 14.253487477230415}</td>\n",
       "    </tr>\n",
       "    <tr>\n",
       "      <th>13</th>\n",
       "      <td>{'on': 860}</td>\n",
       "      <td>{'drive': 211}</td>\n",
       "      <td>{'on': 52.33115839131635}</td>\n",
       "      <td>{'mail': 21.926491062038906}</td>\n",
       "      <td>{'with': 28.318691298767323}</td>\n",
       "      <td>{'drive': 14.107584262411871}</td>\n",
       "    </tr>\n",
       "    <tr>\n",
       "      <th>14</th>\n",
       "      <td>{'or': 818}</td>\n",
       "      <td>{'20': 208}</td>\n",
       "      <td>{'this': 49.35365878734478}</td>\n",
       "      <td>{'make': 20.570809342527713}</td>\n",
       "      <td>{'if': 28.21545774406861}</td>\n",
       "      <td>{'os': 14.072038969746567}</td>\n",
       "    </tr>\n",
       "    <tr>\n",
       "      <th>15</th>\n",
       "      <td>{'if': 783}</td>\n",
       "      <td>{'edu': 201}</td>\n",
       "      <td>{'if': 48.68433864711239}</td>\n",
       "      <td>{'time': 19.925039649403804}</td>\n",
       "      <td>{'this': 27.8614040902488}</td>\n",
       "      <td>{'program': 14.02943548800833}</td>\n",
       "    </tr>\n",
       "    <tr>\n",
       "      <th>16</th>\n",
       "      <td>{'are': 766}</td>\n",
       "      <td>{'time': 194}</td>\n",
       "      <td>{'are': 44.17551403613028}</td>\n",
       "      <td>{'good': 19.677782012899794}</td>\n",
       "      <td>{'are': 26.408399492923788}</td>\n",
       "      <td>{'mail': 13.843080897295174}</td>\n",
       "    </tr>\n",
       "    <tr>\n",
       "      <th>17</th>\n",
       "      <td>{'be': 719}</td>\n",
       "      <td>{'does': 187}</td>\n",
       "      <td>{'be': 41.09584961366332}</td>\n",
       "      <td>{'think': 19.18157693518253}</td>\n",
       "      <td>{'can': 25.72077920823754}</td>\n",
       "      <td>{'file': 13.606763403975274}</td>\n",
       "    </tr>\n",
       "    <tr>\n",
       "      <th>18</th>\n",
       "      <td>{'but': 618}</td>\n",
       "      <td>{'software': 184}</td>\n",
       "      <td>{'can': 40.015755826654384}</td>\n",
       "      <td>{'need': 18.717487462169895}</td>\n",
       "      <td>{'windows': 25.587587452136255}</td>\n",
       "      <td>{'think': 13.491354914405813}</td>\n",
       "    </tr>\n",
       "    <tr>\n",
       "      <th>19</th>\n",
       "      <td>{'not': 616}</td>\n",
       "      <td>{'make': 178}</td>\n",
       "      <td>{'but': 38.73433767399363}</td>\n",
       "      <td>{'00': 18.247527832473146}</td>\n",
       "      <td>{'be': 25.386806878300593}</td>\n",
       "      <td>{'make': 13.380164760732074}</td>\n",
       "    </tr>\n",
       "  </tbody>\n",
       "</table>\n",
       "</div>"
      ],
      "text/plain": [
       "             Count                                              TF  \\\n",
       "     Без стоп-слов     С стоп-словами                Без стоп-слов   \n",
       "0    {'the': 5303}        {'00': 583}  {'the': 291.83451302743805}   \n",
       "1     {'to': 3088}   {'windows': 545}   {'to': 183.90838083387956}   \n",
       "2    {'and': 2434}       {'use': 312}    {'and': 146.156505085496}   \n",
       "3     {'of': 2139}      {'like': 308}  {'for': 125.43397981498244}   \n",
       "4     {'is': 1796}       {'dos': 281}     {'of': 122.066568487921}   \n",
       "5    {'for': 1707}       {'new': 273}   {'is': 107.84097417025771}   \n",
       "6     {'it': 1636}      {'know': 271}   {'it': 105.27518554867675}   \n",
       "7     {'in': 1527}       {'don': 266}    {'in': 97.01628770404322}   \n",
       "8   {'that': 1281}      {'just': 261}   {'you': 78.68365428133383}   \n",
       "9    {'you': 1264}      {'file': 259}  {'that': 78.59916577831366}   \n",
       "10  {'have': 1009}        {'10': 256}  {'have': 67.79878229557147}   \n",
       "11   {'with': 921}        {'50': 220}    {'or': 55.76257536048489}   \n",
       "12   {'this': 869}      {'used': 218}  {'with': 55.63974205275723}   \n",
       "13     {'on': 860}     {'drive': 211}    {'on': 52.33115839131635}   \n",
       "14     {'or': 818}        {'20': 208}  {'this': 49.35365878734478}   \n",
       "15     {'if': 783}       {'edu': 201}    {'if': 48.68433864711239}   \n",
       "16    {'are': 766}      {'time': 194}   {'are': 44.17551403613028}   \n",
       "17     {'be': 719}      {'does': 187}    {'be': 41.09584961366332}   \n",
       "18    {'but': 618}  {'software': 184}  {'can': 40.015755826654384}   \n",
       "19    {'not': 616}      {'make': 178}   {'but': 38.73433767399363}   \n",
       "\n",
       "                                                              TF-IDF  \\\n",
       "                     С стоп-словами                    Без стоп-слов   \n",
       "0   {'windows': 52.138731148601934}      {'the': 110.54034814082188}   \n",
       "1      {'like': 34.439374615801476}        {'to': 74.53330706423196}   \n",
       "2       {'know': 33.66646041364366}       {'and': 59.49702901688886}   \n",
       "3        {'use': 31.87961880209994}        {'of': 55.00612226795159}   \n",
       "4      {'just': 30.841892061552258}       {'it': 51.437481151335135}   \n",
       "5        {'don': 28.71858022009789}      {'for': 51.171080962654656}   \n",
       "6    {'thanks': 28.010190251053274}       {'is': 50.718071500871154}   \n",
       "7       {'edu': 27.356607275584427}     {'that': 44.362737722486365}   \n",
       "8      {'does': 24.509161821966384}      {'you': 42.734546090195195}   \n",
       "9       {'new': 24.466160631107165}        {'in': 42.50992737276512}   \n",
       "10      {'dos': 24.422073918787923}      {'have': 35.42627259647494}   \n",
       "11      {'sale': 24.36581862630775}       {'or': 30.117888661918553}   \n",
       "12      {'used': 23.16783154652809}         {'on': 30.0179938849296}   \n",
       "13     {'mail': 21.926491062038906}     {'with': 28.318691298767323}   \n",
       "14     {'make': 20.570809342527713}        {'if': 28.21545774406861}   \n",
       "15     {'time': 19.925039649403804}       {'this': 27.8614040902488}   \n",
       "16     {'good': 19.677782012899794}      {'are': 26.408399492923788}   \n",
       "17     {'think': 19.18157693518253}       {'can': 25.72077920823754}   \n",
       "18     {'need': 18.717487462169895}  {'windows': 25.587587452136255}   \n",
       "19       {'00': 18.247527832473146}       {'be': 25.386806878300593}   \n",
       "\n",
       "                                     \n",
       "                     С стоп-словами  \n",
       "0   {'windows': 29.525766988247245}  \n",
       "1      {'know': 19.401071908073977}  \n",
       "2       {'dos': 18.328724185534426}  \n",
       "3       {'like': 18.22825166865843}  \n",
       "4       {'edu': 17.720422089543977}  \n",
       "5       {'just': 17.59219450994192}  \n",
       "6       {'don': 16.953572988898507}  \n",
       "7     {'thanks': 16.89266199027737}  \n",
       "8       {'use': 16.745586293513156}  \n",
       "9       {'does': 14.87062950349624}  \n",
       "10     {'sale': 14.848851201411348}  \n",
       "11        {'00': 14.63805388598326}  \n",
       "12      {'new': 14.253487477230415}  \n",
       "13    {'drive': 14.107584262411871}  \n",
       "14       {'os': 14.072038969746567}  \n",
       "15   {'program': 14.02943548800833}  \n",
       "16     {'mail': 13.843080897295174}  \n",
       "17     {'file': 13.606763403975274}  \n",
       "18    {'think': 13.491354914405813}  \n",
       "19     {'make': 13.380164760732074}  "
      ]
     },
     "execution_count": 40,
     "metadata": {},
     "output_type": "execute_result"
    }
   ],
   "source": [
    "df2 = pd.DataFrame(columns=columns)\n",
    "\n",
    "df2['Count', 'Без стоп-слов'] = top_terms_without_stop_test\n",
    "df2['TF', 'Без стоп-слов'] = top_terms_tf_test\n",
    "df2['TF-IDF', 'Без стоп-слов'] = top_terms_tfidf_test\n",
    "\n",
    "df2['Count', 'С стоп-словами'] = top_terms_stop_test\n",
    "df2['TF', 'С стоп-словами'] = top_terms_stop_tf_test\n",
    "df2['TF-IDF', 'С стоп-словами'] = top_terms_stop_tfidf_test\n",
    "\n",
    "df2"
   ]
  },
  {
   "cell_type": "markdown",
   "id": "8856b13e",
   "metadata": {
    "pycharm": {
     "name": "#%% md\n"
    }
   },
   "source": [
    "#### Со стеммингом"
   ]
  },
  {
   "cell_type": "code",
   "execution_count": 41,
   "id": "fdd43015",
   "metadata": {
    "pycharm": {
     "name": "#%%\n"
    }
   },
   "outputs": [
    {
     "data": {
      "text/html": [
       "<div>\n",
       "<style scoped>\n",
       "    .dataframe tbody tr th:only-of-type {\n",
       "        vertical-align: middle;\n",
       "    }\n",
       "\n",
       "    .dataframe tbody tr th {\n",
       "        vertical-align: top;\n",
       "    }\n",
       "\n",
       "    .dataframe thead tr th {\n",
       "        text-align: left;\n",
       "    }\n",
       "</style>\n",
       "<table border=\"1\" class=\"dataframe\">\n",
       "  <thead>\n",
       "    <tr>\n",
       "      <th></th>\n",
       "      <th colspan=\"2\" halign=\"left\">Count</th>\n",
       "      <th colspan=\"2\" halign=\"left\">TF</th>\n",
       "      <th colspan=\"2\" halign=\"left\">TF-IDF</th>\n",
       "    </tr>\n",
       "    <tr>\n",
       "      <th></th>\n",
       "      <th>Без стоп-слов</th>\n",
       "      <th>С стоп-словами</th>\n",
       "      <th>Без стоп-слов</th>\n",
       "      <th>С стоп-словами</th>\n",
       "      <th>Без стоп-слов</th>\n",
       "      <th>С стоп-словами</th>\n",
       "    </tr>\n",
       "  </thead>\n",
       "  <tbody>\n",
       "    <tr>\n",
       "      <th>0</th>\n",
       "      <td>{'ax': 62375}</td>\n",
       "      <td>{'ax': 62375}</td>\n",
       "      <td>{'the': 436.84019326795124}</td>\n",
       "      <td>{'wmbxlt': 71.81439255394872}</td>\n",
       "      <td>{'the': 163.18149367238405}</td>\n",
       "      <td>{'wmbxlt': 71.81439255394872}</td>\n",
       "    </tr>\n",
       "    <tr>\n",
       "      <th>1</th>\n",
       "      <td>{'the': 8249}</td>\n",
       "      <td>{'max': 4490}</td>\n",
       "      <td>{'to': 255.5572536985919}</td>\n",
       "      <td>{'k9': 54.5113487304099}</td>\n",
       "      <td>{'to': 102.82755373820844}</td>\n",
       "      <td>{'k9': 54.5113487304099}</td>\n",
       "    </tr>\n",
       "    <tr>\n",
       "      <th>2</th>\n",
       "      <td>{'max': 4490}</td>\n",
       "      <td>{'use': 1290}</td>\n",
       "      <td>{'and': 200.74287736762383}</td>\n",
       "      <td>{'v5': 53.13620559333252}</td>\n",
       "      <td>{'and': 81.7662926378468}</td>\n",
       "      <td>{'v5': 53.13620559333252}</td>\n",
       "    </tr>\n",
       "    <tr>\n",
       "      <th>3</th>\n",
       "      <td>{'to': 4457}</td>\n",
       "      <td>{'thi': 1272}</td>\n",
       "      <td>{'for': 188.5383430099311}</td>\n",
       "      <td>{'jd0': 45.23828076117531}</td>\n",
       "      <td>{'for': 77.33052295360623}</td>\n",
       "      <td>{'jd0': 45.23828076117531}</td>\n",
       "    </tr>\n",
       "    <tr>\n",
       "      <th>4</th>\n",
       "      <td>{'and': 3552}</td>\n",
       "      <td>{'g9v': 1166}</td>\n",
       "      <td>{'of': 165.41403810545853}</td>\n",
       "      <td>{'titl': 43.89006613294745}</td>\n",
       "      <td>{'it': 76.46507212637587}</td>\n",
       "      <td>{'titl': 43.89006613294745}</td>\n",
       "    </tr>\n",
       "    <tr>\n",
       "      <th>5</th>\n",
       "      <td>{'of': 3065}</td>\n",
       "      <td>{'b8f': 1111}</td>\n",
       "      <td>{'it': 159.27872175977353}</td>\n",
       "      <td>{'mower': 41.10851125187996}</td>\n",
       "      <td>{'of': 73.26001364847929}</td>\n",
       "      <td>{'mower': 41.10851125187996}</td>\n",
       "    </tr>\n",
       "    <tr>\n",
       "      <th>6</th>\n",
       "      <td>{'is': 2808}</td>\n",
       "      <td>{'a86': 916}</td>\n",
       "      <td>{'is': 152.59232013654986}</td>\n",
       "      <td>{'introductori': 39.226259668278665}</td>\n",
       "      <td>{'is': 70.62789802262674}</td>\n",
       "      <td>{'introductori': 39.226259668278665}</td>\n",
       "    </tr>\n",
       "    <tr>\n",
       "      <th>7</th>\n",
       "      <td>{'for': 2744}</td>\n",
       "      <td>{'pl': 829}</td>\n",
       "      <td>{'in': 143.98872667709514}</td>\n",
       "      <td>{'cxs': 39.000166212753065}</td>\n",
       "      <td>{'in': 63.04433639188749}</td>\n",
       "      <td>{'cxs': 39.000166212753065}</td>\n",
       "    </tr>\n",
       "    <tr>\n",
       "      <th>8</th>\n",
       "      <td>{'it': 2531}</td>\n",
       "      <td>{'145': 761}</td>\n",
       "      <td>{'you': 114.60481658877012}</td>\n",
       "      <td>{'v5e': 37.871521733587635}</td>\n",
       "      <td>{'you': 61.57191070046019}</td>\n",
       "      <td>{'v5e': 37.871521733587635}</td>\n",
       "    </tr>\n",
       "    <tr>\n",
       "      <th>9</th>\n",
       "      <td>{'in': 2394}</td>\n",
       "      <td>{'window': 759}</td>\n",
       "      <td>{'have': 100.55424907563342}</td>\n",
       "      <td>{'cy': 35.704323145993186}</td>\n",
       "      <td>{'that': 54.56537437025866}</td>\n",
       "      <td>{'cy': 35.704323145993186}</td>\n",
       "    </tr>\n",
       "    <tr>\n",
       "      <th>10</th>\n",
       "      <td>{'you': 1993}</td>\n",
       "      <td>{'1d9': 672}</td>\n",
       "      <td>{'that': 97.25280082907429}</td>\n",
       "      <td>{'dk': 34.99341982654917}</td>\n",
       "      <td>{'have': 51.78266241945223}</td>\n",
       "      <td>{'dk': 34.99341982654917}</td>\n",
       "    </tr>\n",
       "    <tr>\n",
       "      <th>11</th>\n",
       "      <td>{'that': 1720}</td>\n",
       "      <td>{'00': 651}</td>\n",
       "      <td>{'with': 91.19315593199107}</td>\n",
       "      <td>{'g9v4e': 34.190376652753564}</td>\n",
       "      <td>{'with': 47.09624775472306}</td>\n",
       "      <td>{'g9v4e': 34.190376652753564}</td>\n",
       "    </tr>\n",
       "    <tr>\n",
       "      <th>12</th>\n",
       "      <td>{'have': 1537}</td>\n",
       "      <td>{'ani': 559}</td>\n",
       "      <td>{'or': 82.7442737385287}</td>\n",
       "      <td>{'rmw': 33.78559867655903}</td>\n",
       "      <td>{'or': 44.89778756660415}</td>\n",
       "      <td>{'rmw': 33.78559867655903}</td>\n",
       "    </tr>\n",
       "    <tr>\n",
       "      <th>13</th>\n",
       "      <td>{'with': 1480}</td>\n",
       "      <td>{'34u': 549}</td>\n",
       "      <td>{'thi': 77.76300923413989}</td>\n",
       "      <td>{'like': 33.64708925406388}</td>\n",
       "      <td>{'thi': 43.55554563655819}</td>\n",
       "      <td>{'like': 33.64708925406388}</td>\n",
       "    </tr>\n",
       "    <tr>\n",
       "      <th>14</th>\n",
       "      <td>{'or': 1367}</td>\n",
       "      <td>{'wa': 528}</td>\n",
       "      <td>{'use': 76.43777522668313}</td>\n",
       "      <td>{'explod': 28.109132980833586}</td>\n",
       "      <td>{'use': 43.373275014753865}</td>\n",
       "      <td>{'explod': 28.109132980833586}</td>\n",
       "    </tr>\n",
       "    <tr>\n",
       "      <th>15</th>\n",
       "      <td>{'on': 1293}</td>\n",
       "      <td>{'1t': 510}</td>\n",
       "      <td>{'on': 76.17828196867185}</td>\n",
       "      <td>{'blast': 27.873923641453192}</td>\n",
       "      <td>{'on': 43.242823778192445}</td>\n",
       "      <td>{'blast': 27.873923641453192}</td>\n",
       "    </tr>\n",
       "    <tr>\n",
       "      <th>16</th>\n",
       "      <td>{'use': 1290}</td>\n",
       "      <td>{'ha': 509}</td>\n",
       "      <td>{'if': 69.55210760739459}</td>\n",
       "      <td>{'morn': 27.769691894594608}</td>\n",
       "      <td>{'do': 40.564703597441934}</td>\n",
       "      <td>{'morn': 27.769691894594608}</td>\n",
       "    </tr>\n",
       "    <tr>\n",
       "      <th>17</th>\n",
       "      <td>{'thi': 1272}</td>\n",
       "      <td>{'like': 509}</td>\n",
       "      <td>{'are': 68.58927691827455}</td>\n",
       "      <td>{'v6t': 27.023144307210433}</td>\n",
       "      <td>{'are': 40.13792028514502}</td>\n",
       "      <td>{'v6t': 27.023144307210433}</td>\n",
       "    </tr>\n",
       "    <tr>\n",
       "      <th>18</th>\n",
       "      <td>{'do': 1232}</td>\n",
       "      <td>{'0t': 505}</td>\n",
       "      <td>{'do': 66.01461842570892}</td>\n",
       "      <td>{'nahf': 26.670074361863733}</td>\n",
       "      <td>{'if': 39.909567124307145}</td>\n",
       "      <td>{'nahf': 26.670074361863733}</td>\n",
       "    </tr>\n",
       "    <tr>\n",
       "      <th>19</th>\n",
       "      <td>{'be': 1206}</td>\n",
       "      <td>{'file': 464}</td>\n",
       "      <td>{'be': 64.38224533839065}</td>\n",
       "      <td>{'d1': 26.461288189181644}</td>\n",
       "      <td>{'be': 38.931443147381515}</td>\n",
       "      <td>{'d1': 26.461288189181644}</td>\n",
       "    </tr>\n",
       "  </tbody>\n",
       "</table>\n",
       "</div>"
      ],
      "text/plain": [
       "             Count                                             TF  \\\n",
       "     Без стоп-слов   С стоп-словами                 Без стоп-слов   \n",
       "0    {'ax': 62375}    {'ax': 62375}   {'the': 436.84019326795124}   \n",
       "1    {'the': 8249}    {'max': 4490}     {'to': 255.5572536985919}   \n",
       "2    {'max': 4490}    {'use': 1290}   {'and': 200.74287736762383}   \n",
       "3     {'to': 4457}    {'thi': 1272}    {'for': 188.5383430099311}   \n",
       "4    {'and': 3552}    {'g9v': 1166}    {'of': 165.41403810545853}   \n",
       "5     {'of': 3065}    {'b8f': 1111}    {'it': 159.27872175977353}   \n",
       "6     {'is': 2808}     {'a86': 916}    {'is': 152.59232013654986}   \n",
       "7    {'for': 2744}      {'pl': 829}    {'in': 143.98872667709514}   \n",
       "8     {'it': 2531}     {'145': 761}   {'you': 114.60481658877012}   \n",
       "9     {'in': 2394}  {'window': 759}  {'have': 100.55424907563342}   \n",
       "10   {'you': 1993}     {'1d9': 672}   {'that': 97.25280082907429}   \n",
       "11  {'that': 1720}      {'00': 651}   {'with': 91.19315593199107}   \n",
       "12  {'have': 1537}     {'ani': 559}      {'or': 82.7442737385287}   \n",
       "13  {'with': 1480}     {'34u': 549}    {'thi': 77.76300923413989}   \n",
       "14    {'or': 1367}      {'wa': 528}    {'use': 76.43777522668313}   \n",
       "15    {'on': 1293}      {'1t': 510}     {'on': 76.17828196867185}   \n",
       "16   {'use': 1290}      {'ha': 509}     {'if': 69.55210760739459}   \n",
       "17   {'thi': 1272}    {'like': 509}    {'are': 68.58927691827455}   \n",
       "18    {'do': 1232}      {'0t': 505}     {'do': 66.01461842570892}   \n",
       "19    {'be': 1206}    {'file': 464}     {'be': 64.38224533839065}   \n",
       "\n",
       "                                                               TF-IDF  \\\n",
       "                          С стоп-словами                Без стоп-слов   \n",
       "0          {'wmbxlt': 71.81439255394872}  {'the': 163.18149367238405}   \n",
       "1               {'k9': 54.5113487304099}   {'to': 102.82755373820844}   \n",
       "2              {'v5': 53.13620559333252}    {'and': 81.7662926378468}   \n",
       "3             {'jd0': 45.23828076117531}   {'for': 77.33052295360623}   \n",
       "4            {'titl': 43.89006613294745}    {'it': 76.46507212637587}   \n",
       "5           {'mower': 41.10851125187996}    {'of': 73.26001364847929}   \n",
       "6   {'introductori': 39.226259668278665}    {'is': 70.62789802262674}   \n",
       "7            {'cxs': 39.000166212753065}    {'in': 63.04433639188749}   \n",
       "8            {'v5e': 37.871521733587635}   {'you': 61.57191070046019}   \n",
       "9             {'cy': 35.704323145993186}  {'that': 54.56537437025866}   \n",
       "10             {'dk': 34.99341982654917}  {'have': 51.78266241945223}   \n",
       "11         {'g9v4e': 34.190376652753564}  {'with': 47.09624775472306}   \n",
       "12            {'rmw': 33.78559867655903}    {'or': 44.89778756660415}   \n",
       "13           {'like': 33.64708925406388}   {'thi': 43.55554563655819}   \n",
       "14        {'explod': 28.109132980833586}  {'use': 43.373275014753865}   \n",
       "15         {'blast': 27.873923641453192}   {'on': 43.242823778192445}   \n",
       "16          {'morn': 27.769691894594608}   {'do': 40.564703597441934}   \n",
       "17           {'v6t': 27.023144307210433}   {'are': 40.13792028514502}   \n",
       "18          {'nahf': 26.670074361863733}   {'if': 39.909567124307145}   \n",
       "19            {'d1': 26.461288189181644}   {'be': 38.931443147381515}   \n",
       "\n",
       "                                          \n",
       "                          С стоп-словами  \n",
       "0          {'wmbxlt': 71.81439255394872}  \n",
       "1               {'k9': 54.5113487304099}  \n",
       "2              {'v5': 53.13620559333252}  \n",
       "3             {'jd0': 45.23828076117531}  \n",
       "4            {'titl': 43.89006613294745}  \n",
       "5           {'mower': 41.10851125187996}  \n",
       "6   {'introductori': 39.226259668278665}  \n",
       "7            {'cxs': 39.000166212753065}  \n",
       "8            {'v5e': 37.871521733587635}  \n",
       "9             {'cy': 35.704323145993186}  \n",
       "10             {'dk': 34.99341982654917}  \n",
       "11         {'g9v4e': 34.190376652753564}  \n",
       "12            {'rmw': 33.78559867655903}  \n",
       "13           {'like': 33.64708925406388}  \n",
       "14        {'explod': 28.109132980833586}  \n",
       "15         {'blast': 27.873923641453192}  \n",
       "16          {'morn': 27.769691894594608}  \n",
       "17           {'v6t': 27.023144307210433}  \n",
       "18          {'nahf': 26.670074361863733}  \n",
       "19            {'d1': 26.461288189181644}  "
      ]
     },
     "execution_count": 41,
     "metadata": {},
     "output_type": "execute_result"
    }
   ],
   "source": [
    "df3 = pd.DataFrame(columns=columns)\n",
    "\n",
    "df3['Count', 'Без стоп-слов'] = top_terms_stem\n",
    "df3['TF', 'Без стоп-слов'] = top_terms_stem_tf\n",
    "df3['TF-IDF', 'Без стоп-слов'] = top_terms_stem_tfidf\n",
    "\n",
    "df3['Count', 'С стоп-словами'] = top_terms_stop_stem\n",
    "df3['TF', 'С стоп-словами'] = top_terms_stem_stop_tf\n",
    "df3['TF-IDF', 'С стоп-словами'] = top_terms_stem_stop_tfidf\n",
    "\n",
    "df3"
   ]
  },
  {
   "cell_type": "code",
   "execution_count": 42,
   "id": "90d00b31",
   "metadata": {
    "pycharm": {
     "name": "#%%\n"
    }
   },
   "outputs": [
    {
     "data": {
      "text/html": [
       "<div>\n",
       "<style scoped>\n",
       "    .dataframe tbody tr th:only-of-type {\n",
       "        vertical-align: middle;\n",
       "    }\n",
       "\n",
       "    .dataframe tbody tr th {\n",
       "        vertical-align: top;\n",
       "    }\n",
       "\n",
       "    .dataframe thead tr th {\n",
       "        text-align: left;\n",
       "    }\n",
       "</style>\n",
       "<table border=\"1\" class=\"dataframe\">\n",
       "  <thead>\n",
       "    <tr>\n",
       "      <th></th>\n",
       "      <th colspan=\"2\" halign=\"left\">Count</th>\n",
       "      <th colspan=\"2\" halign=\"left\">TF</th>\n",
       "      <th colspan=\"2\" halign=\"left\">TF-IDF</th>\n",
       "    </tr>\n",
       "    <tr>\n",
       "      <th></th>\n",
       "      <th>Без стоп-слов</th>\n",
       "      <th>С стоп-словами</th>\n",
       "      <th>Без стоп-слов</th>\n",
       "      <th>С стоп-словами</th>\n",
       "      <th>Без стоп-слов</th>\n",
       "      <th>С стоп-словами</th>\n",
       "    </tr>\n",
       "  </thead>\n",
       "  <tbody>\n",
       "    <tr>\n",
       "      <th>0</th>\n",
       "      <td>{'the': 5301}</td>\n",
       "      <td>{'thi': 869}</td>\n",
       "      <td>{'the': 284.6029885967805}</td>\n",
       "      <td>{'wmbxlt': 52.138731148601934}</td>\n",
       "      <td>{'the': 110.15007259688721}</td>\n",
       "      <td>{'wmbxlt': 52.138731148601934}</td>\n",
       "    </tr>\n",
       "    <tr>\n",
       "      <th>1</th>\n",
       "      <td>{'to': 3088}</td>\n",
       "      <td>{'use': 734}</td>\n",
       "      <td>{'to': 179.69612017633773}</td>\n",
       "      <td>{'k9': 34.439374615801476}</td>\n",
       "      <td>{'to': 74.6970778664183}</td>\n",
       "      <td>{'k9': 34.439374615801476}</td>\n",
       "    </tr>\n",
       "    <tr>\n",
       "      <th>2</th>\n",
       "      <td>{'and': 2435}</td>\n",
       "      <td>{'00': 583}</td>\n",
       "      <td>{'and': 142.57862070311032}</td>\n",
       "      <td>{'jd0': 33.66646041364366}</td>\n",
       "      <td>{'and': 59.452672256420016}</td>\n",
       "      <td>{'jd0': 33.66646041364366}</td>\n",
       "    </tr>\n",
       "    <tr>\n",
       "      <th>3</th>\n",
       "      <td>{'of': 2139}</td>\n",
       "      <td>{'window': 564}</td>\n",
       "      <td>{'for': 122.798938654992}</td>\n",
       "      <td>{'v5': 31.87961880209994}</td>\n",
       "      <td>{'of': 54.694210335382635}</td>\n",
       "      <td>{'v5': 31.87961880209994}</td>\n",
       "    </tr>\n",
       "    <tr>\n",
       "      <th>4</th>\n",
       "      <td>{'is': 1838}</td>\n",
       "      <td>{'file': 380}</td>\n",
       "      <td>{'of': 119.02507446606452}</td>\n",
       "      <td>{'introductori': 30.841892061552258}</td>\n",
       "      <td>{'it': 52.94695312834682}</td>\n",
       "      <td>{'introductori': 30.841892061552258}</td>\n",
       "    </tr>\n",
       "    <tr>\n",
       "      <th>5</th>\n",
       "      <td>{'it': 1711}</td>\n",
       "      <td>{'work': 361}</td>\n",
       "      <td>{'is': 108.53282199946798}</td>\n",
       "      <td>{'cy': 28.71858022009789}</td>\n",
       "      <td>{'is': 51.959038586981414}</td>\n",
       "      <td>{'cy': 28.71858022009789}</td>\n",
       "    </tr>\n",
       "    <tr>\n",
       "      <th>6</th>\n",
       "      <td>{'for': 1707}</td>\n",
       "      <td>{'ani': 336}</td>\n",
       "      <td>{'it': 106.99220738574931}</td>\n",
       "      <td>{'titl': 28.010190251053274}</td>\n",
       "      <td>{'for': 51.36681718395666}</td>\n",
       "      <td>{'titl': 28.010190251053274}</td>\n",
       "    </tr>\n",
       "    <tr>\n",
       "      <th>7</th>\n",
       "      <td>{'in': 1528}</td>\n",
       "      <td>{'ha': 326}</td>\n",
       "      <td>{'in': 94.69206460134237}</td>\n",
       "      <td>{'dk': 27.356607275584427}</td>\n",
       "      <td>{'that': 44.33877517975381}</td>\n",
       "      <td>{'dk': 27.356607275584427}</td>\n",
       "    </tr>\n",
       "    <tr>\n",
       "      <th>8</th>\n",
       "      <td>{'that': 1284}</td>\n",
       "      <td>{'wa': 326}</td>\n",
       "      <td>{'that': 76.82189998574334}</td>\n",
       "      <td>{'cxs': 24.509161821966384}</td>\n",
       "      <td>{'you': 42.705239546726474}</td>\n",
       "      <td>{'cxs': 24.509161821966384}</td>\n",
       "    </tr>\n",
       "    <tr>\n",
       "      <th>9</th>\n",
       "      <td>{'you': 1264}</td>\n",
       "      <td>{'like': 325}</td>\n",
       "      <td>{'you': 76.8202764406269}</td>\n",
       "      <td>{'mower': 24.466160631107165}</td>\n",
       "      <td>{'in': 42.419008264604095}</td>\n",
       "      <td>{'mower': 24.466160631107165}</td>\n",
       "    </tr>\n",
       "    <tr>\n",
       "      <th>10</th>\n",
       "      <td>{'have': 1066}</td>\n",
       "      <td>{'know': 289}</td>\n",
       "      <td>{'have': 69.84627566717808}</td>\n",
       "      <td>{'d1': 24.422073918787923}</td>\n",
       "      <td>{'have': 36.75793858768384}</td>\n",
       "      <td>{'d1': 24.422073918787923}</td>\n",
       "    </tr>\n",
       "    <tr>\n",
       "      <th>11</th>\n",
       "      <td>{'with': 921}</td>\n",
       "      <td>{'new': 278}</td>\n",
       "      <td>{'or': 54.50905103825732}</td>\n",
       "      <td>{'rmw': 24.36581862630775}</td>\n",
       "      <td>{'do': 34.455101685751444}</td>\n",
       "      <td>{'rmw': 24.36581862630775}</td>\n",
       "    </tr>\n",
       "    <tr>\n",
       "      <th>12</th>\n",
       "      <td>{'do': 913}</td>\n",
       "      <td>{'drive': 267}</td>\n",
       "      <td>{'with': 54.247596317509235}</td>\n",
       "      <td>{'v5e': 23.16783154652809}</td>\n",
       "      <td>{'on': 30.18515384300593}</td>\n",
       "      <td>{'v5e': 23.16783154652809}</td>\n",
       "    </tr>\n",
       "    <tr>\n",
       "      <th>13</th>\n",
       "      <td>{'thi': 869}</td>\n",
       "      <td>{'just': 261}</td>\n",
       "      <td>{'do': 53.57089000049436}</td>\n",
       "      <td>{'like': 21.926491062038906}</td>\n",
       "      <td>{'or': 30.111057936497932}</td>\n",
       "      <td>{'like': 21.926491062038906}</td>\n",
       "    </tr>\n",
       "    <tr>\n",
       "      <th>14</th>\n",
       "      <td>{'on': 863}</td>\n",
       "      <td>{'10': 256}</td>\n",
       "      <td>{'on': 51.37623605842871}</td>\n",
       "      <td>{'lite': 20.570809342527713}</td>\n",
       "      <td>{'if': 28.29711228464798}</td>\n",
       "      <td>{'lite': 20.570809342527713}</td>\n",
       "    </tr>\n",
       "    <tr>\n",
       "      <th>15</th>\n",
       "      <td>{'or': 818}</td>\n",
       "      <td>{'run': 254}</td>\n",
       "      <td>{'thi': 48.19411532114574}</td>\n",
       "      <td>{'tr': 19.925039649403804}</td>\n",
       "      <td>{'with': 28.247127641386854}</td>\n",
       "      <td>{'tr': 19.925039649403804}</td>\n",
       "    </tr>\n",
       "    <tr>\n",
       "      <th>16</th>\n",
       "      <td>{'be': 791}</td>\n",
       "      <td>{'doe': 250}</td>\n",
       "      <td>{'if': 47.61979715095931}</td>\n",
       "      <td>{'g9v4e': 19.677782012899794}</td>\n",
       "      <td>{'thi': 27.88182171437507}</td>\n",
       "      <td>{'g9v4e': 19.677782012899794}</td>\n",
       "    </tr>\n",
       "    <tr>\n",
       "      <th>17</th>\n",
       "      <td>{'if': 783}</td>\n",
       "      <td>{'pleas': 236}</td>\n",
       "      <td>{'use': 44.05763662308672}</td>\n",
       "      <td>{'toler': 19.18157693518253}</td>\n",
       "      <td>{'window': 27.20067077113115}</td>\n",
       "      <td>{'toler': 19.18157693518253}</td>\n",
       "    </tr>\n",
       "    <tr>\n",
       "      <th>18</th>\n",
       "      <td>{'are': 781}</td>\n",
       "      <td>{'program': 236}</td>\n",
       "      <td>{'are': 43.93510968605607}</td>\n",
       "      <td>{'morn': 18.717487462169895}</td>\n",
       "      <td>{'be': 27.19403159253378}</td>\n",
       "      <td>{'morn': 18.717487462169895}</td>\n",
       "    </tr>\n",
       "    <tr>\n",
       "      <th>19</th>\n",
       "      <td>{'use': 734}</td>\n",
       "      <td>{'make': 235}</td>\n",
       "      <td>{'be': 43.627460539008794}</td>\n",
       "      <td>{'00': 18.247527832473146}</td>\n",
       "      <td>{'are': 26.861145726964967}</td>\n",
       "      <td>{'00': 18.247527832473146}</td>\n",
       "    </tr>\n",
       "  </tbody>\n",
       "</table>\n",
       "</div>"
      ],
      "text/plain": [
       "             Count                                              TF  \\\n",
       "     Без стоп-слов    С стоп-словами                 Без стоп-слов   \n",
       "0    {'the': 5301}      {'thi': 869}    {'the': 284.6029885967805}   \n",
       "1     {'to': 3088}      {'use': 734}    {'to': 179.69612017633773}   \n",
       "2    {'and': 2435}       {'00': 583}   {'and': 142.57862070311032}   \n",
       "3     {'of': 2139}   {'window': 564}     {'for': 122.798938654992}   \n",
       "4     {'is': 1838}     {'file': 380}    {'of': 119.02507446606452}   \n",
       "5     {'it': 1711}     {'work': 361}    {'is': 108.53282199946798}   \n",
       "6    {'for': 1707}      {'ani': 336}    {'it': 106.99220738574931}   \n",
       "7     {'in': 1528}       {'ha': 326}     {'in': 94.69206460134237}   \n",
       "8   {'that': 1284}       {'wa': 326}   {'that': 76.82189998574334}   \n",
       "9    {'you': 1264}     {'like': 325}     {'you': 76.8202764406269}   \n",
       "10  {'have': 1066}     {'know': 289}   {'have': 69.84627566717808}   \n",
       "11   {'with': 921}      {'new': 278}     {'or': 54.50905103825732}   \n",
       "12     {'do': 913}    {'drive': 267}  {'with': 54.247596317509235}   \n",
       "13    {'thi': 869}     {'just': 261}     {'do': 53.57089000049436}   \n",
       "14     {'on': 863}       {'10': 256}     {'on': 51.37623605842871}   \n",
       "15     {'or': 818}      {'run': 254}    {'thi': 48.19411532114574}   \n",
       "16     {'be': 791}      {'doe': 250}     {'if': 47.61979715095931}   \n",
       "17     {'if': 783}    {'pleas': 236}    {'use': 44.05763662308672}   \n",
       "18    {'are': 781}  {'program': 236}    {'are': 43.93510968605607}   \n",
       "19    {'use': 734}     {'make': 235}    {'be': 43.627460539008794}   \n",
       "\n",
       "                                                                 TF-IDF  \\\n",
       "                          С стоп-словами                  Без стоп-слов   \n",
       "0         {'wmbxlt': 52.138731148601934}    {'the': 110.15007259688721}   \n",
       "1             {'k9': 34.439374615801476}       {'to': 74.6970778664183}   \n",
       "2             {'jd0': 33.66646041364366}    {'and': 59.452672256420016}   \n",
       "3              {'v5': 31.87961880209994}     {'of': 54.694210335382635}   \n",
       "4   {'introductori': 30.841892061552258}      {'it': 52.94695312834682}   \n",
       "5              {'cy': 28.71858022009789}     {'is': 51.959038586981414}   \n",
       "6           {'titl': 28.010190251053274}     {'for': 51.36681718395666}   \n",
       "7             {'dk': 27.356607275584427}    {'that': 44.33877517975381}   \n",
       "8            {'cxs': 24.509161821966384}    {'you': 42.705239546726474}   \n",
       "9          {'mower': 24.466160631107165}     {'in': 42.419008264604095}   \n",
       "10            {'d1': 24.422073918787923}    {'have': 36.75793858768384}   \n",
       "11            {'rmw': 24.36581862630775}     {'do': 34.455101685751444}   \n",
       "12            {'v5e': 23.16783154652809}      {'on': 30.18515384300593}   \n",
       "13          {'like': 21.926491062038906}     {'or': 30.111057936497932}   \n",
       "14          {'lite': 20.570809342527713}      {'if': 28.29711228464798}   \n",
       "15            {'tr': 19.925039649403804}   {'with': 28.247127641386854}   \n",
       "16         {'g9v4e': 19.677782012899794}     {'thi': 27.88182171437507}   \n",
       "17          {'toler': 19.18157693518253}  {'window': 27.20067077113115}   \n",
       "18          {'morn': 18.717487462169895}      {'be': 27.19403159253378}   \n",
       "19            {'00': 18.247527832473146}    {'are': 26.861145726964967}   \n",
       "\n",
       "                                          \n",
       "                          С стоп-словами  \n",
       "0         {'wmbxlt': 52.138731148601934}  \n",
       "1             {'k9': 34.439374615801476}  \n",
       "2             {'jd0': 33.66646041364366}  \n",
       "3              {'v5': 31.87961880209994}  \n",
       "4   {'introductori': 30.841892061552258}  \n",
       "5              {'cy': 28.71858022009789}  \n",
       "6           {'titl': 28.010190251053274}  \n",
       "7             {'dk': 27.356607275584427}  \n",
       "8            {'cxs': 24.509161821966384}  \n",
       "9          {'mower': 24.466160631107165}  \n",
       "10            {'d1': 24.422073918787923}  \n",
       "11            {'rmw': 24.36581862630775}  \n",
       "12            {'v5e': 23.16783154652809}  \n",
       "13          {'like': 21.926491062038906}  \n",
       "14          {'lite': 20.570809342527713}  \n",
       "15            {'tr': 19.925039649403804}  \n",
       "16         {'g9v4e': 19.677782012899794}  \n",
       "17          {'toler': 19.18157693518253}  \n",
       "18          {'morn': 18.717487462169895}  \n",
       "19            {'00': 18.247527832473146}  "
      ]
     },
     "execution_count": 42,
     "metadata": {},
     "output_type": "execute_result"
    }
   ],
   "source": [
    "df4 = pd.DataFrame(columns=columns)\n",
    "\n",
    "df4['Count', 'Без стоп-слов'] = top_terms_stem_test\n",
    "df4['TF', 'Без стоп-слов'] = top_terms_stem_tf_test\n",
    "df4['TF-IDF', 'Без стоп-слов'] = top_terms_stem_tfidf_test\n",
    "\n",
    "df4['Count', 'С стоп-словами'] = top_terms_stop_stem_test\n",
    "df4['TF', 'С стоп-словами'] = top_terms_stem_stop_tf_test\n",
    "df4['TF-IDF', 'С стоп-словами'] = top_terms_stem_stop_tfidf_test\n",
    "\n",
    "df4"
   ]
  },
  {
   "cell_type": "markdown",
   "id": "1398b563",
   "metadata": {
    "pycharm": {
     "name": "#%% md\n"
    }
   },
   "source": [
    "#### Запись в файл"
   ]
  },
  {
   "cell_type": "code",
   "execution_count": 43,
   "id": "ed81e668",
   "metadata": {
    "pycharm": {
     "name": "#%%\n"
    }
   },
   "outputs": [],
   "source": [
    "import openpyxl"
   ]
  },
  {
   "cell_type": "code",
   "execution_count": 44,
   "id": "ceff0f2a",
   "metadata": {
    "pycharm": {
     "name": "#%%\n"
    }
   },
   "outputs": [],
   "source": [
    "writer = pd.ExcelWriter('result.xlsx', engine='openpyxl')\n",
    "\n",
    "df1.to_excel(writer, sheet_name='Train, wo stem')\n",
    "df2.to_excel(writer, sheet_name='Test, wo stem')\n",
    "df3.to_excel(writer, sheet_name='Train, with stem')\n",
    "df4.to_excel(writer, sheet_name='Test, with stem')\n",
    "\n",
    "writer.close()"
   ]
  },
  {
   "cell_type": "markdown",
   "id": "58cf3bf1",
   "metadata": {
    "pycharm": {
     "name": "#%% md\n"
    }
   },
   "source": [
    "### Конвейер"
   ]
  },
  {
   "cell_type": "code",
   "execution_count": 45,
   "id": "c6843061",
   "metadata": {
    "pycharm": {
     "name": "#%%\n"
    }
   },
   "outputs": [],
   "source": [
    "from sklearn.metrics import classification_report\n",
    "from sklearn.naive_bayes import MultinomialNB"
   ]
  },
  {
   "cell_type": "code",
   "execution_count": 46,
   "id": "aede3418",
   "metadata": {
    "pycharm": {
     "name": "#%%\n"
    }
   },
   "outputs": [],
   "source": [
    "stop_words = [None, 'english']\n",
    "max_features_values = [100, 500, 1000, 2000, 3000, 4000, 5000]\n",
    "use_tf = [True, False]\n",
    "use_idf = [True, False]"
   ]
  },
  {
   "cell_type": "code",
   "execution_count": 47,
   "id": "61f995ac",
   "metadata": {
    "pycharm": {
     "name": "#%%\n"
    }
   },
   "outputs": [],
   "source": [
    "def prepare(data, max_feature, stop_word, use_tf, use_idf):\n",
    "    tf = None\n",
    "    cv = CountVectorizer(max_features=max_feature, stop_words=stop_word)\n",
    "    cv.fit(data)\n",
    "    if use_tf:\n",
    "        tf = TfidfTransformer(use_idf=use_idf)\n",
    "        tf.fit(cv.transform(data))\n",
    "    return cv, tf"
   ]
  },
  {
   "cell_type": "code",
   "execution_count": 48,
   "id": "10d5c93e",
   "metadata": {
    "pycharm": {
     "name": "#%%\n"
    }
   },
   "outputs": [],
   "source": [
    "result = []\n",
    "\n",
    "for max_features_value in max_features_values:\n",
    "    for stop_word in stop_words:\n",
    "        for ut in use_tf:\n",
    "            for ui in use_idf:\n",
    "                options = {}\n",
    "                cv, tf = prepare(twenty_train_full.data, max_features_value, stop_word, ut, ui)\n",
    "                if tf:\n",
    "                    clf = MultinomialNB()\n",
    "                    clf.fit(tf.transform(cv.transform(twenty_train_full.data)), twenty_train_full.target)\n",
    "                    prep_test = tf.transform(cv.transform(twenty_test_full.data))\n",
    "                else:\n",
    "                    clf = MultinomialNB()\n",
    "                    clf.fit(cv.transform(twenty_train_full.data), twenty_train_full.target)\n",
    "                    prep_test = cv.transform(twenty_test_full.data)\n",
    "\n",
    "                options['features'] = max_features_value\n",
    "                options['stop_words'] = stop_word\n",
    "                options['use_tf'] = ut\n",
    "                options['use_idf'] = ui\n",
    "\n",
    "                result_data = classification_report(clf.predict(prep_test), twenty_test_full.target, output_dict=True)\n",
    "                result_df = pd.DataFrame(result_data)\n",
    "                result.append({\n",
    "                    'df': result_df,\n",
    "                    'options': options\n",
    "                })"
   ]
  },
  {
   "cell_type": "code",
   "execution_count": 49,
   "id": "014351f1",
   "metadata": {
    "pycharm": {
     "name": "#%%\n"
    }
   },
   "outputs": [],
   "source": [
    "writer = pd.ExcelWriter('result_compare.xlsx', engine='openpyxl')\n",
    "\n",
    "df = pd.DataFrame(columns=['Номер страницы', 'features', 'stop_words', 'use_tf', 'use_idf'])\n",
    "for it, item in enumerate(result):\n",
    "    for key, value in item['options'].items():\n",
    "        df.at[it, key] = value\n",
    "    df.at[it, 'Номер страницы'] = it\n",
    "\n",
    "df.to_excel(writer, sheet_name='Оглавление')\n",
    "\n",
    "for it, item in enumerate(result):\n",
    "    df_new = pd.DataFrame(item['df'])\n",
    "    df_new.to_excel(writer, sheet_name=f'Страница {it}')\n",
    "\n",
    "writer.close()"
   ]
  },
  {
   "cell_type": "code",
   "execution_count": 50,
   "id": "75ca7bd1",
   "metadata": {
    "pycharm": {
     "name": "#%%\n"
    }
   },
   "outputs": [],
   "source": [
    "from sklearn.pipeline import Pipeline\n",
    "\n",
    "parameters = {\n",
    "    'vect__max_features': max_features_values,\n",
    "    'vect__stop_words': stop_words,\n",
    "    'tfidf__use_idf': use_idf\n",
    "}\n",
    "\n",
    "text_clf = Pipeline([('vect', CountVectorizer()),\n",
    "                     ('tfidf', TfidfTransformer()),\n",
    "                     ('clf', MultinomialNB())])"
   ]
  },
  {
   "cell_type": "code",
   "execution_count": 51,
   "id": "f1c3b4c4",
   "metadata": {
    "pycharm": {
     "name": "#%%\n"
    }
   },
   "outputs": [
    {
     "data": {
      "text/html": [
       "<style>#sk-container-id-1 {color: black;}#sk-container-id-1 pre{padding: 0;}#sk-container-id-1 div.sk-toggleable {background-color: white;}#sk-container-id-1 label.sk-toggleable__label {cursor: pointer;display: block;width: 100%;margin-bottom: 0;padding: 0.3em;box-sizing: border-box;text-align: center;}#sk-container-id-1 label.sk-toggleable__label-arrow:before {content: \"▸\";float: left;margin-right: 0.25em;color: #696969;}#sk-container-id-1 label.sk-toggleable__label-arrow:hover:before {color: black;}#sk-container-id-1 div.sk-estimator:hover label.sk-toggleable__label-arrow:before {color: black;}#sk-container-id-1 div.sk-toggleable__content {max-height: 0;max-width: 0;overflow: hidden;text-align: left;background-color: #f0f8ff;}#sk-container-id-1 div.sk-toggleable__content pre {margin: 0.2em;color: black;border-radius: 0.25em;background-color: #f0f8ff;}#sk-container-id-1 input.sk-toggleable__control:checked~div.sk-toggleable__content {max-height: 200px;max-width: 100%;overflow: auto;}#sk-container-id-1 input.sk-toggleable__control:checked~label.sk-toggleable__label-arrow:before {content: \"▾\";}#sk-container-id-1 div.sk-estimator input.sk-toggleable__control:checked~label.sk-toggleable__label {background-color: #d4ebff;}#sk-container-id-1 div.sk-label input.sk-toggleable__control:checked~label.sk-toggleable__label {background-color: #d4ebff;}#sk-container-id-1 input.sk-hidden--visually {border: 0;clip: rect(1px 1px 1px 1px);clip: rect(1px, 1px, 1px, 1px);height: 1px;margin: -1px;overflow: hidden;padding: 0;position: absolute;width: 1px;}#sk-container-id-1 div.sk-estimator {font-family: monospace;background-color: #f0f8ff;border: 1px dotted black;border-radius: 0.25em;box-sizing: border-box;margin-bottom: 0.5em;}#sk-container-id-1 div.sk-estimator:hover {background-color: #d4ebff;}#sk-container-id-1 div.sk-parallel-item::after {content: \"\";width: 100%;border-bottom: 1px solid gray;flex-grow: 1;}#sk-container-id-1 div.sk-label:hover label.sk-toggleable__label {background-color: #d4ebff;}#sk-container-id-1 div.sk-serial::before {content: \"\";position: absolute;border-left: 1px solid gray;box-sizing: border-box;top: 0;bottom: 0;left: 50%;z-index: 0;}#sk-container-id-1 div.sk-serial {display: flex;flex-direction: column;align-items: center;background-color: white;padding-right: 0.2em;padding-left: 0.2em;position: relative;}#sk-container-id-1 div.sk-item {position: relative;z-index: 1;}#sk-container-id-1 div.sk-parallel {display: flex;align-items: stretch;justify-content: center;background-color: white;position: relative;}#sk-container-id-1 div.sk-item::before, #sk-container-id-1 div.sk-parallel-item::before {content: \"\";position: absolute;border-left: 1px solid gray;box-sizing: border-box;top: 0;bottom: 0;left: 50%;z-index: -1;}#sk-container-id-1 div.sk-parallel-item {display: flex;flex-direction: column;z-index: 1;position: relative;background-color: white;}#sk-container-id-1 div.sk-parallel-item:first-child::after {align-self: flex-end;width: 50%;}#sk-container-id-1 div.sk-parallel-item:last-child::after {align-self: flex-start;width: 50%;}#sk-container-id-1 div.sk-parallel-item:only-child::after {width: 0;}#sk-container-id-1 div.sk-dashed-wrapped {border: 1px dashed gray;margin: 0 0.4em 0.5em 0.4em;box-sizing: border-box;padding-bottom: 0.4em;background-color: white;}#sk-container-id-1 div.sk-label label {font-family: monospace;font-weight: bold;display: inline-block;line-height: 1.2em;}#sk-container-id-1 div.sk-label-container {text-align: center;}#sk-container-id-1 div.sk-container {/* jupyter's `normalize.less` sets `[hidden] { display: none; }` but bootstrap.min.css set `[hidden] { display: none !important; }` so we also need the `!important` here to be able to override the default hidden behavior on the sphinx rendered scikit-learn.org. See: https://github.com/scikit-learn/scikit-learn/issues/21755 */display: inline-block !important;position: relative;}#sk-container-id-1 div.sk-text-repr-fallback {display: none;}</style><div id=\"sk-container-id-1\" class=\"sk-top-container\"><div class=\"sk-text-repr-fallback\"><pre>GridSearchCV(estimator=Pipeline(steps=[(&#x27;vect&#x27;, CountVectorizer()),\n",
       "                                       (&#x27;tfidf&#x27;, TfidfTransformer()),\n",
       "                                       (&#x27;clf&#x27;, MultinomialNB())]),\n",
       "             param_grid={&#x27;tfidf__use_idf&#x27;: [True, False],\n",
       "                         &#x27;vect__max_features&#x27;: [100, 500, 1000, 2000, 3000,\n",
       "                                                4000, 5000],\n",
       "                         &#x27;vect__stop_words&#x27;: [None, &#x27;english&#x27;]})</pre><b>In a Jupyter environment, please rerun this cell to show the HTML representation or trust the notebook. <br />On GitHub, the HTML representation is unable to render, please try loading this page with nbviewer.org.</b></div><div class=\"sk-container\" hidden><div class=\"sk-item sk-dashed-wrapped\"><div class=\"sk-label-container\"><div class=\"sk-label sk-toggleable\"><input class=\"sk-toggleable__control sk-hidden--visually\" id=\"sk-estimator-id-1\" type=\"checkbox\" ><label for=\"sk-estimator-id-1\" class=\"sk-toggleable__label sk-toggleable__label-arrow\">GridSearchCV</label><div class=\"sk-toggleable__content\"><pre>GridSearchCV(estimator=Pipeline(steps=[(&#x27;vect&#x27;, CountVectorizer()),\n",
       "                                       (&#x27;tfidf&#x27;, TfidfTransformer()),\n",
       "                                       (&#x27;clf&#x27;, MultinomialNB())]),\n",
       "             param_grid={&#x27;tfidf__use_idf&#x27;: [True, False],\n",
       "                         &#x27;vect__max_features&#x27;: [100, 500, 1000, 2000, 3000,\n",
       "                                                4000, 5000],\n",
       "                         &#x27;vect__stop_words&#x27;: [None, &#x27;english&#x27;]})</pre></div></div></div><div class=\"sk-parallel\"><div class=\"sk-parallel-item\"><div class=\"sk-item\"><div class=\"sk-label-container\"><div class=\"sk-label sk-toggleable\"><input class=\"sk-toggleable__control sk-hidden--visually\" id=\"sk-estimator-id-2\" type=\"checkbox\" ><label for=\"sk-estimator-id-2\" class=\"sk-toggleable__label sk-toggleable__label-arrow\">estimator: Pipeline</label><div class=\"sk-toggleable__content\"><pre>Pipeline(steps=[(&#x27;vect&#x27;, CountVectorizer()), (&#x27;tfidf&#x27;, TfidfTransformer()),\n",
       "                (&#x27;clf&#x27;, MultinomialNB())])</pre></div></div></div><div class=\"sk-serial\"><div class=\"sk-item\"><div class=\"sk-serial\"><div class=\"sk-item\"><div class=\"sk-estimator sk-toggleable\"><input class=\"sk-toggleable__control sk-hidden--visually\" id=\"sk-estimator-id-3\" type=\"checkbox\" ><label for=\"sk-estimator-id-3\" class=\"sk-toggleable__label sk-toggleable__label-arrow\">CountVectorizer</label><div class=\"sk-toggleable__content\"><pre>CountVectorizer()</pre></div></div></div><div class=\"sk-item\"><div class=\"sk-estimator sk-toggleable\"><input class=\"sk-toggleable__control sk-hidden--visually\" id=\"sk-estimator-id-4\" type=\"checkbox\" ><label for=\"sk-estimator-id-4\" class=\"sk-toggleable__label sk-toggleable__label-arrow\">TfidfTransformer</label><div class=\"sk-toggleable__content\"><pre>TfidfTransformer()</pre></div></div></div><div class=\"sk-item\"><div class=\"sk-estimator sk-toggleable\"><input class=\"sk-toggleable__control sk-hidden--visually\" id=\"sk-estimator-id-5\" type=\"checkbox\" ><label for=\"sk-estimator-id-5\" class=\"sk-toggleable__label sk-toggleable__label-arrow\">MultinomialNB</label><div class=\"sk-toggleable__content\"><pre>MultinomialNB()</pre></div></div></div></div></div></div></div></div></div></div></div></div>"
      ],
      "text/plain": [
       "GridSearchCV(estimator=Pipeline(steps=[('vect', CountVectorizer()),\n",
       "                                       ('tfidf', TfidfTransformer()),\n",
       "                                       ('clf', MultinomialNB())]),\n",
       "             param_grid={'tfidf__use_idf': [True, False],\n",
       "                         'vect__max_features': [100, 500, 1000, 2000, 3000,\n",
       "                                                4000, 5000],\n",
       "                         'vect__stop_words': [None, 'english']})"
      ]
     },
     "execution_count": 51,
     "metadata": {},
     "output_type": "execute_result"
    }
   ],
   "source": [
    "from sklearn.model_selection import GridSearchCV\n",
    "\n",
    "gscv = GridSearchCV(text_clf, param_grid=parameters)\n",
    "gscv.fit(twenty_train_full.data, twenty_train_full.target)"
   ]
  },
  {
   "cell_type": "code",
   "execution_count": 52,
   "id": "474a2d1b",
   "metadata": {
    "pycharm": {
     "name": "#%%\n"
    }
   },
   "outputs": [
    {
     "name": "stdout",
     "output_type": "stream",
     "text": [
      "              precision    recall  f1-score   support\n",
      "\n",
      "           0       0.92      0.80      0.86       450\n",
      "           1       0.89      0.88      0.88       396\n",
      "           2       0.75      0.89      0.81       331\n",
      "\n",
      "    accuracy                           0.85      1177\n",
      "   macro avg       0.85      0.86      0.85      1177\n",
      "weighted avg       0.86      0.85      0.85      1177\n",
      "\n"
     ]
    }
   ],
   "source": [
    "print(classification_report(gscv.predict(twenty_test_full.data), twenty_test_full.target))"
   ]
  },
  {
   "cell_type": "code",
   "execution_count": 53,
   "id": "66b7df28",
   "metadata": {
    "pycharm": {
     "name": "#%%\n"
    }
   },
   "outputs": [
    {
     "data": {
      "text/plain": [
       "{'tfidf__use_idf': True,\n",
       " 'vect__max_features': 5000,\n",
       " 'vect__stop_words': 'english'}"
      ]
     },
     "execution_count": 53,
     "metadata": {},
     "output_type": "execute_result"
    }
   ],
   "source": [
    "gscv.best_params_"
   ]
  }
 ],
 "metadata": {
  "kernelspec": {
   "display_name": "Python 3 (ipykernel)",
   "language": "python",
   "name": "python3"
  },
  "language_info": {
   "codemirror_mode": {
    "name": "ipython",
    "version": 3
   },
   "file_extension": ".py",
   "mimetype": "text/x-python",
   "name": "python",
   "nbconvert_exporter": "python",
   "pygments_lexer": "ipython3",
   "version": "3.11.5"
  }
 },
 "nbformat": 4,
 "nbformat_minor": 5
}
